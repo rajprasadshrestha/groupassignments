{
 "cells": [
  {
   "cell_type": "markdown",
   "metadata": {},
   "source": [
    "Task Divison:\n",
    "\n",
    "1. Data cleaning by Purnima:  \n",
    "    - Drop the following columns from both  csv files  using Apache Spark DataFrame API\n",
    "        - REF_DATE,\"UOM\",\"UOM_ID\",\"SCALAR_FACTOR\",\"SCALAR_ID\",\"VECTOR\",\"STATUS\",\"SYMBOL\",\"TERMINATED\",\"DECIMALS\" (EXCEPT **VALUE** and **COORDINATE** note that)\n",
    "    - Remove the records containing the \"GEO\" column value as \"Canada\" using Apache Spark DataFrame API\n",
    "    -  Rename the column name \"Business Characteristics\" to \"Business Types\" using Apache Spark DataFrame API\n",
    "    \n",
    "\n",
    "    - Create a presenatation slides .... \n",
    "\n",
    "2. Data visulization by Purninma(Use Plotly (https://plotly.com/python/) it's really simple (Apache Spark Dataframe can be used):\n",
    "    -   Already using generative AI by various business types in across canada \n",
    "        - Create a pie chart (use value (%) column value)\n",
    "        - Create a spatial chart showing the use of generative AI across Canada\n",
    "        - Create a line plot\n",
    "    - Plans to use generative AI by various business types in each province of canada (use lineplot, heat map , spatial pie chart and Value(%) column)\n",
    "    - Have not considered using Generative AI(use pie chart and Value(%) column)\n",
    "\n",
    "1. Data cleaning by Raj \n",
    "    - Add a new column \"Business classification code\" extract the classification code from the Business Characteristics column values for example \"Other services (except public administration) [81]\" 81 is the business classification code. \n",
    "    - \n",
    "\n",
    "2. Data visulization by Raj \n",
    "\n",
    "\n",
    "\n",
    "Automate tasks to replace employees\n",
    "Increase automation in tasks, without reducing employment\n",
    "IT fields (our course)\n",
    "\n",
    "\n",
    "\n",
    "    \n"
   ]
  },
  {
   "cell_type": "markdown",
   "metadata": {},
   "source": [
    "1. Dataset load in the pyspark"
   ]
  },
  {
   "cell_type": "code",
   "execution_count": 13,
   "metadata": {},
   "outputs": [
    {
     "name": "stdout",
     "output_type": "stream",
     "text": [
      "+--------+------+--------------+---------------------------------------------------------------------+---------------------------------------------------------+-------+------+-------------+---------+-----------+----------+-----+------+------+----------+--------+\n",
      "|REF_DATE|GEO   |DGUID         |Business characteristics                                             |Value or potential value created by Generative AI        |UOM    |UOM_ID|SCALAR_FACTOR|SCALAR_ID|VECTOR     |COORDINATE|VALUE|STATUS|SYMBOL|TERMINATED|DECIMALS|\n",
      "+--------+------+--------------+---------------------------------------------------------------------+---------------------------------------------------------+-------+------+-------------+---------+-----------+----------+-----+------+------+----------+--------+\n",
      "|2023    |Canada|2021A000011124|North American Industry Classification System (NAICS), all industries|Accelerate development of creative content               |Percent|239   |units        |0        |v1579749147|1.1.1     |68.5 |B     |NULL  |NULL      |1       |\n",
      "|2023    |Canada|2021A000011124|North American Industry Classification System (NAICS), all industries|Increase automation in tasks, without reducing employment|Percent|239   |units        |0        |v1579749148|1.1.2     |46.1 |B     |NULL  |NULL      |1       |\n",
      "|2023    |Canada|2021A000011124|North American Industry Classification System (NAICS), all industries|Automate tasks to replace employees                      |Percent|239   |units        |0        |v1579749149|1.1.3     |12.8 |A     |NULL  |NULL      |1       |\n",
      "|2023    |Canada|2021A000011124|North American Industry Classification System (NAICS), all industries|Achieve cost efficiencies                                |Percent|239   |units        |0        |v1579749150|1.1.4     |35.1 |B     |NULL  |NULL      |1       |\n",
      "|2023    |Canada|2021A000011124|North American Industry Classification System (NAICS), all industries|Improve client or customer experience                    |Percent|239   |units        |0        |v1579749151|1.1.5     |37.5 |B     |NULL  |NULL      |1       |\n",
      "|2023    |Canada|2021A000011124|North American Industry Classification System (NAICS), all industries|Drive data-driven decision making                        |Percent|239   |units        |0        |v1579749152|1.1.6     |29.5 |B     |NULL  |NULL      |1       |\n",
      "|2023    |Canada|2021A000011124|North American Industry Classification System (NAICS), all industries|Minimize workforce recruitment and retention challenges  |Percent|239   |units        |0        |v1579749153|1.1.7     |10.1 |A     |NULL  |NULL      |1       |\n",
      "|2023    |Canada|2021A000011124|North American Industry Classification System (NAICS), all industries|Value or potential value created by Generative AI, other |Percent|239   |units        |0        |v1579749154|1.1.8     |3.7  |A     |NULL  |NULL      |1       |\n",
      "|2023    |Canada|2021A000011124|Agriculture, forestry, fishing and hunting [11]                      |Accelerate development of creative content               |Percent|239   |units        |0        |v1579749235|1.2.1     |34.8 |D     |NULL  |NULL      |1       |\n",
      "|2023    |Canada|2021A000011124|Agriculture, forestry, fishing and hunting [11]                      |Increase automation in tasks, without reducing employment|Percent|239   |units        |0        |v1579749236|1.2.2     |52.1 |E     |NULL  |NULL      |1       |\n",
      "|2023    |Canada|2021A000011124|Agriculture, forestry, fishing and hunting [11]                      |Automate tasks to replace employees                      |Percent|239   |units        |0        |v1579749237|1.2.3     |24.9 |D     |NULL  |NULL      |1       |\n",
      "|2023    |Canada|2021A000011124|Agriculture, forestry, fishing and hunting [11]                      |Achieve cost efficiencies                                |Percent|239   |units        |0        |v1579749238|1.2.4     |46.6 |E     |NULL  |NULL      |1       |\n",
      "|2023    |Canada|2021A000011124|Agriculture, forestry, fishing and hunting [11]                      |Improve client or customer experience                    |Percent|239   |units        |0        |v1579749239|1.2.5     |33.2 |D     |NULL  |NULL      |1       |\n",
      "|2023    |Canada|2021A000011124|Agriculture, forestry, fishing and hunting [11]                      |Drive data-driven decision making                        |Percent|239   |units        |0        |v1579749240|1.2.6     |46.3 |D     |NULL  |NULL      |1       |\n",
      "|2023    |Canada|2021A000011124|Agriculture, forestry, fishing and hunting [11]                      |Minimize workforce recruitment and retention challenges  |Percent|239   |units        |0        |v1579749241|1.2.7     |13.9 |C     |NULL  |NULL      |1       |\n",
      "|2023    |Canada|2021A000011124|Agriculture, forestry, fishing and hunting [11]                      |Value or potential value created by Generative AI, other |Percent|239   |units        |0        |v1579749242|1.2.8     |0.5  |A     |NULL  |NULL      |1       |\n",
      "|2023    |Canada|2021A000011124|Mining, quarrying, and oil and gas extraction [21]                   |Accelerate development of creative content               |Percent|239   |units        |0        |v1579749323|1.3.1     |34.4 |E     |NULL  |NULL      |1       |\n",
      "|2023    |Canada|2021A000011124|Mining, quarrying, and oil and gas extraction [21]                   |Increase automation in tasks, without reducing employment|Percent|239   |units        |0        |v1579749324|1.3.2     |48.3 |E     |NULL  |NULL      |1       |\n",
      "|2023    |Canada|2021A000011124|Mining, quarrying, and oil and gas extraction [21]                   |Automate tasks to replace employees                      |Percent|239   |units        |0        |v1579749325|1.3.3     |0.4  |A     |NULL  |NULL      |1       |\n",
      "|2023    |Canada|2021A000011124|Mining, quarrying, and oil and gas extraction [21]                   |Achieve cost efficiencies                                |Percent|239   |units        |0        |v1579749326|1.3.4     |39.7 |E     |NULL  |NULL      |1       |\n",
      "+--------+------+--------------+---------------------------------------------------------------------+---------------------------------------------------------+-------+------+-------------+---------+-----------+----------+-----+------+------+----------+--------+\n",
      "only showing top 20 rows\n",
      "\n"
     ]
    }
   ],
   "source": [
    "\n",
    "from pyspark.sql import SparkSession\n",
    "\n",
    "spark = SparkSession.builder.appName(\"AnalaysisOfGenerativeAIInCanada\").getOrCreate()\n",
    "\n",
    "# Load the dataset of Business's use of Generative AI in Canada\n",
    "df = spark.read.csv(\"../dataset/33100784-eng/33100784.csv\", header=True,inferSchema=True)\n",
    "# df.show(truncate=False)\n",
    "\n",
    "df_pandas = df.toPandas()\n",
    "\n",
    "df_pandas.to_csv(\"GenerativeAIInCanada.csv\")\n",
    "\n",
    "\n",
    "# df.write.format(\"pdf\").save(\"GenerativeAIInCanada.pdf\")\n",
    "\n",
    "# load the dataset of Value created by Generative AI in Canada across different business sectors\n",
    "df1 = spark.read.csv(\"../dataset/33100785-eng/33100785.csv\", header=True,inferSchema=True)\n",
    "\n",
    "df1_pandas = df1.toPandas()\n",
    "df1_pandas.to_csv(\"ValueCreatedGenerativeAIInCanada.csv\")\n",
    "\n",
    "df1.show(truncate=False)\n",
    "\n",
    "# df1.write.format(\"pdf\").save(\"ValueCreatedGenerativeAIInCanada.pdf\")\n",
    "\n",
    "# Reference https://dash.gallery/dash-clinical-analytics/\n",
    "# https://www.statcan.gc.ca/o1/en/plus/5847-which-canadian-businesses-are-using-generative-artificial-intelligence-and-why"
   ]
  },
  {
   "cell_type": "markdown",
   "metadata": {},
   "source": [
    "2. Merge the two datasets by common attribute ie (Coordinate(act as a primary key here))"
   ]
  },
  {
   "cell_type": "code",
   "execution_count": 14,
   "metadata": {},
   "outputs": [
    {
     "name": "stderr",
     "output_type": "stream",
     "text": [
      "24/04/12 14:17:54 WARN SparkStringUtils: Truncated the string representation of a plan since it was too large. This behavior can be adjusted by setting 'spark.sql.debug.maxToStringFields'.\n"
     ]
    },
    {
     "name": "stdout",
     "output_type": "stream",
     "text": [
      "+--------+------+--------------+---------------------------------------------------------------------+---------------------------------------------------------------------+-------+------+-------------+---------+-----------+----------+---------------------------+------+------+----------+--------+--------+------+--------------+---------------------------------------------------------------------+---------------------------------------------------------+-------+------+-------------+---------+-----------+------------------------------+------+------+----------+--------+\n",
      "|REF_DATE|GEO   |DGUID         |Business characteristics                                             |Business's use of Generative AI                                      |UOM    |UOM_ID|SCALAR_FACTOR|SCALAR_ID|VECTOR     |COORDINATE|ValueOfUsingGenerativeAI(%)|STATUS|SYMBOL|TERMINATED|DECIMALS|REF_DATE|GEO1  |DGUID         |Business characteristics1                                            |Value or potential value created by Generative AI        |UOM    |UOM_ID|SCALAR_FACTOR|SCALAR_ID|VECTOR     |ValuePrdoucedByGenerativeAI(%)|STATUS|SYMBOL|TERMINATED|DECIMALS|\n",
      "+--------+------+--------------+---------------------------------------------------------------------+---------------------------------------------------------------------+-------+------+-------------+---------+-----------+----------+---------------------------+------+------+----------+--------+--------+------+--------------+---------------------------------------------------------------------+---------------------------------------------------------+-------+------+-------------+---------+-----------+------------------------------+------+------+----------+--------+\n",
      "|2023    |Canada|2021A000011124|North American Industry Classification System (NAICS), all industries|Already using Generative AI                                          |Percent|239   |units        |0        |v1579745395|1.1.1     |9.3                        |A     |NULL  |NULL      |1       |2023    |Canada|2021A000011124|North American Industry Classification System (NAICS), all industries|Accelerate development of creative content               |Percent|239   |units        |0        |v1579749147|68.5                          |B     |NULL  |NULL      |1       |\n",
      "|2023    |Canada|2021A000011124|North American Industry Classification System (NAICS), all industries|Have plans to use Generative AI                                      |Percent|239   |units        |0        |v1579745396|1.1.2     |4.6                        |A     |NULL  |NULL      |1       |2023    |Canada|2021A000011124|North American Industry Classification System (NAICS), all industries|Increase automation in tasks, without reducing employment|Percent|239   |units        |0        |v1579749148|46.1                          |B     |NULL  |NULL      |1       |\n",
      "|2023    |Canada|2021A000011124|North American Industry Classification System (NAICS), all industries|Considered using but have no current plans to implement Generative AI|Percent|239   |units        |0        |v1579745397|1.1.3     |13.4                       |A     |NULL  |NULL      |1       |2023    |Canada|2021A000011124|North American Industry Classification System (NAICS), all industries|Automate tasks to replace employees                      |Percent|239   |units        |0        |v1579749149|12.8                          |A     |NULL  |NULL      |1       |\n",
      "|2023    |Canada|2021A000011124|North American Industry Classification System (NAICS), all industries|Have not considered using Generative AI                              |Percent|239   |units        |0        |v1579745398|1.1.4     |72.7                       |A     |NULL  |NULL      |1       |2023    |Canada|2021A000011124|North American Industry Classification System (NAICS), all industries|Achieve cost efficiencies                                |Percent|239   |units        |0        |v1579749150|35.1                          |B     |NULL  |NULL      |1       |\n",
      "|2023    |Canada|2021A000011124|Agriculture, forestry, fishing and hunting [11]                      |Already using Generative AI                                          |Percent|239   |units        |0        |v1579745439|1.2.1     |5.5                        |A     |NULL  |NULL      |1       |2023    |Canada|2021A000011124|Agriculture, forestry, fishing and hunting [11]                      |Accelerate development of creative content               |Percent|239   |units        |0        |v1579749235|34.8                          |D     |NULL  |NULL      |1       |\n",
      "|2023    |Canada|2021A000011124|Agriculture, forestry, fishing and hunting [11]                      |Have plans to use Generative AI                                      |Percent|239   |units        |0        |v1579745440|1.2.2     |2.8                        |A     |NULL  |NULL      |1       |2023    |Canada|2021A000011124|Agriculture, forestry, fishing and hunting [11]                      |Increase automation in tasks, without reducing employment|Percent|239   |units        |0        |v1579749236|52.1                          |E     |NULL  |NULL      |1       |\n",
      "|2023    |Canada|2021A000011124|Agriculture, forestry, fishing and hunting [11]                      |Considered using but have no current plans to implement Generative AI|Percent|239   |units        |0        |v1579745441|1.2.3     |6.6                        |A     |NULL  |NULL      |1       |2023    |Canada|2021A000011124|Agriculture, forestry, fishing and hunting [11]                      |Automate tasks to replace employees                      |Percent|239   |units        |0        |v1579749237|24.9                          |D     |NULL  |NULL      |1       |\n",
      "|2023    |Canada|2021A000011124|Agriculture, forestry, fishing and hunting [11]                      |Have not considered using Generative AI                              |Percent|239   |units        |0        |v1579745442|1.2.4     |85.1                       |A     |NULL  |NULL      |1       |2023    |Canada|2021A000011124|Agriculture, forestry, fishing and hunting [11]                      |Achieve cost efficiencies                                |Percent|239   |units        |0        |v1579749238|46.6                          |E     |NULL  |NULL      |1       |\n",
      "|2023    |Canada|2021A000011124|Mining, quarrying, and oil and gas extraction [21]                   |Already using Generative AI                                          |Percent|239   |units        |0        |v1579745483|1.3.1     |7.3                        |A     |NULL  |NULL      |1       |2023    |Canada|2021A000011124|Mining, quarrying, and oil and gas extraction [21]                   |Accelerate development of creative content               |Percent|239   |units        |0        |v1579749323|34.4                          |E     |NULL  |NULL      |1       |\n",
      "|2023    |Canada|2021A000011124|Mining, quarrying, and oil and gas extraction [21]                   |Have plans to use Generative AI                                      |Percent|239   |units        |0        |v1579745484|1.3.2     |1.4                        |A     |NULL  |NULL      |1       |2023    |Canada|2021A000011124|Mining, quarrying, and oil and gas extraction [21]                   |Increase automation in tasks, without reducing employment|Percent|239   |units        |0        |v1579749324|48.3                          |E     |NULL  |NULL      |1       |\n",
      "|2023    |Canada|2021A000011124|Mining, quarrying, and oil and gas extraction [21]                   |Considered using but have no current plans to implement Generative AI|Percent|239   |units        |0        |v1579745485|1.3.3     |15.1                       |B     |NULL  |NULL      |1       |2023    |Canada|2021A000011124|Mining, quarrying, and oil and gas extraction [21]                   |Automate tasks to replace employees                      |Percent|239   |units        |0        |v1579749325|0.4                           |A     |NULL  |NULL      |1       |\n",
      "|2023    |Canada|2021A000011124|Mining, quarrying, and oil and gas extraction [21]                   |Have not considered using Generative AI                              |Percent|239   |units        |0        |v1579745486|1.3.4     |76.2                       |B     |NULL  |NULL      |1       |2023    |Canada|2021A000011124|Mining, quarrying, and oil and gas extraction [21]                   |Achieve cost efficiencies                                |Percent|239   |units        |0        |v1579749326|39.7                          |E     |NULL  |NULL      |1       |\n",
      "|2023    |Canada|2021A000011124|Construction [23]                                                    |Already using Generative AI                                          |Percent|239   |units        |0        |v1579745527|1.4.1     |5.5                        |A     |NULL  |NULL      |1       |2023    |Canada|2021A000011124|Construction [23]                                                    |Accelerate development of creative content               |Percent|239   |units        |0        |v1579749411|78.4                          |D     |NULL  |NULL      |1       |\n",
      "|2023    |Canada|2021A000011124|Construction [23]                                                    |Have plans to use Generative AI                                      |Percent|239   |units        |0        |v1579745528|1.4.2     |1.0                        |A     |NULL  |NULL      |1       |2023    |Canada|2021A000011124|Construction [23]                                                    |Increase automation in tasks, without reducing employment|Percent|239   |units        |0        |v1579749412|20.9                          |D     |NULL  |NULL      |1       |\n",
      "|2023    |Canada|2021A000011124|Construction [23]                                                    |Considered using but have no current plans to implement Generative AI|Percent|239   |units        |0        |v1579745529|1.4.3     |7.9                        |A     |NULL  |NULL      |1       |2023    |Canada|2021A000011124|Construction [23]                                                    |Automate tasks to replace employees                      |Percent|239   |units        |0        |v1579749413|4.3                           |B     |NULL  |NULL      |1       |\n",
      "|2023    |Canada|2021A000011124|Construction [23]                                                    |Have not considered using Generative AI                              |Percent|239   |units        |0        |v1579745530|1.4.4     |85.6                       |B     |NULL  |NULL      |1       |2023    |Canada|2021A000011124|Construction [23]                                                    |Achieve cost efficiencies                                |Percent|239   |units        |0        |v1579749414|17.1                          |C     |NULL  |NULL      |1       |\n",
      "|2023    |Canada|2021A000011124|Manufacturing [31-33]                                                |Already using Generative AI                                          |Percent|239   |units        |0        |v1579745571|1.5.1     |10.6                       |B     |NULL  |NULL      |1       |2023    |Canada|2021A000011124|Manufacturing [31-33]                                                |Accelerate development of creative content               |Percent|239   |units        |0        |v1579749499|49.1                          |E     |NULL  |NULL      |1       |\n",
      "|2023    |Canada|2021A000011124|Manufacturing [31-33]                                                |Have plans to use Generative AI                                      |Percent|239   |units        |0        |v1579745572|1.5.2     |4.8                        |A     |NULL  |NULL      |1       |2023    |Canada|2021A000011124|Manufacturing [31-33]                                                |Increase automation in tasks, without reducing employment|Percent|239   |units        |0        |v1579749500|32.0                          |D     |NULL  |NULL      |1       |\n",
      "|2023    |Canada|2021A000011124|Manufacturing [31-33]                                                |Considered using but have no current plans to implement Generative AI|Percent|239   |units        |0        |v1579745573|1.5.3     |16.2                       |B     |NULL  |NULL      |1       |2023    |Canada|2021A000011124|Manufacturing [31-33]                                                |Automate tasks to replace employees                      |Percent|239   |units        |0        |v1579749501|10.4                          |B     |NULL  |NULL      |1       |\n",
      "|2023    |Canada|2021A000011124|Manufacturing [31-33]                                                |Have not considered using Generative AI                              |Percent|239   |units        |0        |v1579745574|1.5.4     |68.4                       |B     |NULL  |NULL      |1       |2023    |Canada|2021A000011124|Manufacturing [31-33]                                                |Achieve cost efficiencies                                |Percent|239   |units        |0        |v1579749502|34.2                          |D     |NULL  |NULL      |1       |\n",
      "+--------+------+--------------+---------------------------------------------------------------------+---------------------------------------------------------------------+-------+------+-------------+---------+-----------+----------+---------------------------+------+------+----------+--------+--------+------+--------------+---------------------------------------------------------------------+---------------------------------------------------------+-------+------+-------------+---------+-----------+------------------------------+------+------+----------+--------+\n",
      "only showing top 20 rows\n",
      "\n"
     ]
    }
   ],
   "source": [
    "# Rename 'VALUE' column in df to 'PercentageValueOfUsingGenerativeAI'\n",
    "df = df.withColumnRenamed(\"VALUE\", \"ValueOfUsingGenerativeAI(%)\")\n",
    "\n",
    "# Rename 'VALUE' column in df1 to 'PercentageValueGeneratedByGenerativeAI'\n",
    "df1 = df1.withColumnRenamed(\"VALUE\", \"ValuePrdoucedByGenerativeAI(%)\")\n",
    "\n",
    "df1 = df1.withColumnRenamed(\"GEO\", \"GEO1\")\n",
    "df1 = df1.withColumnRenamed(\"COORDINATE\", \"COORDINATE1\")\n",
    "df1 = df1.withColumnRenamed(\"Business characteristics\", \"Business characteristics1\")\n",
    "\n",
    "joined_df = df.join(df1, df[\"COORDINATE\"] == df1[\"COORDINATE1\"], \"inner\").drop(df1[\"COORDINATE1\"])\n",
    "joined_df.show(truncate=False)"
   ]
  },
  {
   "cell_type": "code",
   "execution_count": 15,
   "metadata": {},
   "outputs": [
    {
     "ename": "NameError",
     "evalue": "name 'F' is not defined",
     "output_type": "error",
     "traceback": [
      "\u001b[0;31m---------------------------------------------------------------------------\u001b[0m",
      "\u001b[0;31mNameError\u001b[0m                                 Traceback (most recent call last)",
      "Cell \u001b[0;32mIn[15], line 36\u001b[0m\n\u001b[1;32m     30\u001b[0m \u001b[38;5;66;03m# cleaned_df.show(truncate=False)\u001b[39;00m\n\u001b[1;32m     31\u001b[0m \u001b[38;5;66;03m# cleaned_df.write.csv(\"output.csv\", header=True)\u001b[39;00m\n\u001b[1;32m     32\u001b[0m \n\u001b[1;32m     33\u001b[0m \u001b[38;5;66;03m#Replacing NULL values with Zero in columns ValuePrdoucedByGenerativeAI(%) and ValueOfUsingGenerativeAI(%)\u001b[39;00m\n\u001b[1;32m     34\u001b[0m cleaned_df \u001b[38;5;241m=\u001b[39m  cleaned_df\u001b[38;5;241m.\u001b[39mfillna(\u001b[38;5;241m0\u001b[39m, subset\u001b[38;5;241m=\u001b[39m[\u001b[38;5;124m'\u001b[39m\u001b[38;5;124mValuePrdoucedByGenerativeAI(\u001b[39m\u001b[38;5;124m%\u001b[39m\u001b[38;5;124m)\u001b[39m\u001b[38;5;124m'\u001b[39m, \u001b[38;5;124m'\u001b[39m\u001b[38;5;124mValueOfUsingGenerativeAI(\u001b[39m\u001b[38;5;124m%\u001b[39m\u001b[38;5;124m)\u001b[39m\u001b[38;5;124m'\u001b[39m])\n\u001b[0;32m---> 36\u001b[0m cleaned_df \u001b[38;5;241m=\u001b[39m cleaned_df\u001b[38;5;241m.\u001b[39mwithColumn(\u001b[38;5;124m\"\u001b[39m\u001b[38;5;124mBusiness characteristics\u001b[39m\u001b[38;5;124m\"\u001b[39m, \u001b[43mF\u001b[49m\u001b[38;5;241m.\u001b[39mregexp_replace(cleaned_df[\u001b[38;5;124m\"\u001b[39m\u001b[38;5;124mBusiness characteristics\u001b[39m\u001b[38;5;124m\"\u001b[39m], \u001b[38;5;124mr\u001b[39m\u001b[38;5;124m'\u001b[39m\u001b[38;5;124m\\\u001b[39m\u001b[38;5;124m[.*\u001b[39m\u001b[38;5;124m\\\u001b[39m\u001b[38;5;124m]\u001b[39m\u001b[38;5;124m'\u001b[39m, \u001b[38;5;124m'\u001b[39m\u001b[38;5;124m'\u001b[39m))\n\u001b[1;32m     38\u001b[0m list_of_orgs \u001b[38;5;241m=\u001b[39m [\u001b[38;5;124m\"\u001b[39m\u001b[38;5;124m100 or more employees\u001b[39m\u001b[38;5;124m\"\u001b[39m,\u001b[38;5;124m\"\u001b[39m\u001b[38;5;124m20 to 99 employees\u001b[39m\u001b[38;5;124m\"\u001b[39m,\u001b[38;5;124m\"\u001b[39m\u001b[38;5;124m5 to 19 employees\u001b[39m\u001b[38;5;124m\"\u001b[39m,\u001b[38;5;124m\"\u001b[39m\u001b[38;5;124m1 to 4 employees\u001b[39m\u001b[38;5;124m\"\u001b[39m]\n\u001b[1;32m     42\u001b[0m cleaned_df \u001b[38;5;241m=\u001b[39m cleaned_df\u001b[38;5;241m.\u001b[39mfilter(cleaned_df[\u001b[38;5;124m\"\u001b[39m\u001b[38;5;124mBusiness characteristics\u001b[39m\u001b[38;5;124m\"\u001b[39m]\u001b[38;5;241m.\u001b[39misin(list_of_orgs))\n",
      "\u001b[0;31mNameError\u001b[0m: name 'F' is not defined"
     ]
    }
   ],
   "source": [
    "cleaned_df=joined_df.drop(\"REF_DATE\",\"GEO1\",\"DGUID\", \"UOM\", \"UOM_ID\", \"SCALAR_FACTOR\", \"SCALAR_ID\", \"VECTOR\", \"STATUS\", \"SYMBOL\", \"TERMINATED\", \"DECIMALS\",\"COORDINATE1\",\"Business characteristics1\")\n",
    "\n",
    "#Drop the rows that have GEO value as Canada in the row\n",
    "cleaned_df=cleaned_df.filter(cleaned_df.GEO != \"Canada\")\n",
    "\n",
    "values_to_exclude = [\n",
    "    \"Made investments outside of Canada\",\n",
    "    \"Exported services outside of Canada\",\n",
    "    \"Ownership by visible minority, Southeast Asian\",\n",
    "    \"Relocated any business or organizational activities or employees from another country into Canada\",\n",
    "    \"Exported goods outside of Canada\",\n",
    "    \"Ownership by visible minority, South Asian\",\n",
    "    \"Imported goods from outside of Canada\",\n",
    "    \"Ownership by visible minority, Latin American\",\n",
    "    \"North American Industry Classification System (NAICS), all industries\",\n",
    "    \"Relocated any business or organizational activities or employees from Canada to another country\",\n",
    "    \"Relocated any business or organizational activities or employees from another country to Canada\",\n",
    "    \"Imported services from outside of Canada\",\n",
    "    \"Age of business or organization, 3 to 10 years old\",\n",
    "    \"Majority ownership, woman\",\n",
    "    \"Majority ownership, person with a disability\",\n",
    "    \"Urban\",\n",
    "    \"Age of business or organization, 2 years or less\",\n",
    "    \"Majority ownership, immigrant to Canada\"\n",
    "    \n",
    "]\n",
    "\n",
    "cleaned_df = cleaned_df.filter(~cleaned_df[\"Business characteristics\"].isin(values_to_exclude))\n",
    "\n",
    "# cleaned_df.show(truncate=False)\n",
    "# cleaned_df.write.csv(\"output.csv\", header=True)\n",
    "\n",
    "#Replacing NULL values with Zero in columns ValuePrdoucedByGenerativeAI(%) and ValueOfUsingGenerativeAI(%)\n",
    "cleaned_df =  cleaned_df.fillna(0, subset=['ValuePrdoucedByGenerativeAI(%)', 'ValueOfUsingGenerativeAI(%)'])\n",
    "\n",
    "cleaned_df = cleaned_df.withColumn(\"Business characteristics\", F.regexp_replace(cleaned_df[\"Business characteristics\"], r'\\[.*\\]', ''))\n",
    "\n",
    "list_of_orgs = [\"100 or more employees\",\"20 to 99 employees\",\"5 to 19 employees\",\"1 to 4 employees\"]\n",
    "\n",
    "\n",
    "\n",
    "cleaned_df = cleaned_df.filter(cleaned_df[\"Business characteristics\"].isin(list_of_orgs))\n",
    "\n",
    "from pyspark.sql.functions import col\n",
    "\n",
    "\n",
    "# Find the average ValueOfUsingGenerativeAI(%) of 100 or more employees and 20 to 99 employees   \"5 to 19 employees\",\"1 to 4 employees\" sort by highest to lowest\n",
    "from pyspark.sql.functions import col\n",
    "\n",
    "# Rename the column\n",
    "cleaned_df = cleaned_df.withColumnRenamed(\"ValueOfUsingGenerativeAI(%)\", \"ValueOfUsingGenerativeAI\")\n",
    "\n",
    "\n",
    "from pyspark.sql.functions import col\n",
    "\n",
    "# Define the values to include\n",
    "values_to_include = [\"Have plans to use Generative AI\", \"Already using Generative AI\"]\n",
    "\n",
    "# Filter the data\n",
    "filtered_df = cleaned_df.filter(col(\"Business's use of Generative AI\").isin(values_to_include))\n",
    "\n",
    "cleaned_df = filtered_df.groupBy(\"Business characteristics\").avg(\"ValueOfUsingGenerativeAI\").sort(\"avg(ValueOfUsingGenerativeAI)\", ascending=False)\n",
    "# cleaned_df.show(truncate=False)\n",
    "\n",
    "#create a chart to show the average value of using Generative AI by different business sectors using px\n",
    "import plotly.express as px\n",
    "\n",
    "fig = px.bar(cleaned_df, x='Business characteristics', y='avg(ValueOfUsingGenerativeAI)', color='Business characteristics', title='Generative AI  used by various size of organizations in Canada')\n",
    "fig.update_xaxes(title_text='Types of Organization')\n",
    "fig.update_yaxes(title_text='% Use of Generative AI')\n",
    "fig.show()\n",
    "\n",
    "fig.write_image(\"../visualization/GenerativeAIUsedByVariousSizeOfOrganizationsInCanada.pdf\")\n"
   ]
  },
  {
   "cell_type": "markdown",
   "metadata": {},
   "source": [
    "3. Data cleaning using Pyspark Dataframe API"
   ]
  },
  {
   "cell_type": "code",
   "execution_count": null,
   "metadata": {},
   "outputs": [
    {
     "name": "stdout",
     "output_type": "stream",
     "text": [
      "+-------------------------+----------------------------------------------+---------------------------------------------------------------------+----------+---------------------------+---------------------------------------------------------+------------------------------+\n",
      "|GEO                      |Business characteristics                      |Business's use of Generative AI                                      |COORDINATE|ValueOfUsingGenerativeAI(%)|Value or potential value created by Generative AI        |ValuePrdoucedByGenerativeAI(%)|\n",
      "+-------------------------+----------------------------------------------+---------------------------------------------------------------------+----------+---------------------------+---------------------------------------------------------+------------------------------+\n",
      "|Newfoundland and Labrador|Agriculture, forestry, fishing and hunting    |Already using Generative AI                                          |2.2.1     |2.9                        |Accelerate development of creative content               |88.3                          |\n",
      "|Newfoundland and Labrador|Agriculture, forestry, fishing and hunting    |Have plans to use Generative AI                                      |2.2.2     |5.0                        |Increase automation in tasks, without reducing employment|0.0                           |\n",
      "|Newfoundland and Labrador|Agriculture, forestry, fishing and hunting    |Considered using but have no current plans to implement Generative AI|2.2.3     |7.0                        |Automate tasks to replace employees                      |0.0                           |\n",
      "|Newfoundland and Labrador|Agriculture, forestry, fishing and hunting    |Have not considered using Generative AI                              |2.2.4     |85.1                       |Achieve cost efficiencies                                |0.0                           |\n",
      "|Newfoundland and Labrador|Mining, quarrying, and oil and gas extraction |Already using Generative AI                                          |2.3.1     |5.2                        |Accelerate development of creative content               |0.0                           |\n",
      "|Newfoundland and Labrador|Mining, quarrying, and oil and gas extraction |Have plans to use Generative AI                                      |2.3.2     |3.3                        |Increase automation in tasks, without reducing employment|0.0                           |\n",
      "|Newfoundland and Labrador|Mining, quarrying, and oil and gas extraction |Considered using but have no current plans to implement Generative AI|2.3.3     |6.4                        |Automate tasks to replace employees                      |0.0                           |\n",
      "|Newfoundland and Labrador|Mining, quarrying, and oil and gas extraction |Have not considered using Generative AI                              |2.3.4     |85.1                       |Achieve cost efficiencies                                |0.0                           |\n",
      "|Newfoundland and Labrador|Construction                                  |Already using Generative AI                                          |2.4.1     |0.0                        |Accelerate development of creative content               |0.0                           |\n",
      "|Newfoundland and Labrador|Construction                                  |Have plans to use Generative AI                                      |2.4.2     |0.0                        |Increase automation in tasks, without reducing employment|0.0                           |\n",
      "|Newfoundland and Labrador|Construction                                  |Considered using but have no current plans to implement Generative AI|2.4.3     |4.6                        |Automate tasks to replace employees                      |0.0                           |\n",
      "|Newfoundland and Labrador|Construction                                  |Have not considered using Generative AI                              |2.4.4     |95.4                       |Achieve cost efficiencies                                |0.0                           |\n",
      "|Newfoundland and Labrador|Manufacturing                                 |Already using Generative AI                                          |2.5.1     |5.1                        |Accelerate development of creative content               |100.0                         |\n",
      "|Newfoundland and Labrador|Manufacturing                                 |Have plans to use Generative AI                                      |2.5.2     |0.0                        |Increase automation in tasks, without reducing employment|0.0                           |\n",
      "|Newfoundland and Labrador|Manufacturing                                 |Considered using but have no current plans to implement Generative AI|2.5.3     |8.0                        |Automate tasks to replace employees                      |0.0                           |\n",
      "|Newfoundland and Labrador|Manufacturing                                 |Have not considered using Generative AI                              |2.5.4     |87.0                       |Achieve cost efficiencies                                |0.0                           |\n",
      "|Newfoundland and Labrador|Wholesale trade                               |Already using Generative AI                                          |2.6.1     |13.2                       |Accelerate development of creative content               |0.0                           |\n",
      "|Newfoundland and Labrador|Wholesale trade                               |Have plans to use Generative AI                                      |2.6.2     |6.9                        |Increase automation in tasks, without reducing employment|0.0                           |\n",
      "|Newfoundland and Labrador|Wholesale trade                               |Considered using but have no current plans to implement Generative AI|2.6.3     |18.5                       |Automate tasks to replace employees                      |0.0                           |\n",
      "|Newfoundland and Labrador|Wholesale trade                               |Have not considered using Generative AI                              |2.6.4     |61.3                       |Achieve cost efficiencies                                |0.0                           |\n",
      "+-------------------------+----------------------------------------------+---------------------------------------------------------------------+----------+---------------------------+---------------------------------------------------------+------------------------------+\n",
      "only showing top 20 rows\n",
      "\n",
      "Total no of records in the dataset =>  2444\n",
      "Total records of Ontario province alone => 188\n"
     ]
    }
   ],
   "source": [
    "#Drop columns that are not required for analysis for example \"DGUID\", \"UOM\", \"UOM_ID\", \"SCALAR_FACTOR\", \"SCALAR_ID\", \"VECTOR\", \"COORDINATE\", \"STATUS\", \"SYMBOL\", \"TERMINATED\", \"DECIMALS\"\n",
    "cleaned_df=joined_df.drop(\"REF_DATE\",\"GEO1\",\"DGUID\", \"UOM\", \"UOM_ID\", \"SCALAR_FACTOR\", \"SCALAR_ID\", \"VECTOR\", \"STATUS\", \"SYMBOL\", \"TERMINATED\", \"DECIMALS\",\"COORDINATE1\",\"Business characteristics1\")\n",
    "\n",
    "#Drop the rows that have GEO value as Canada in the row\n",
    "cleaned_df=cleaned_df.filter(cleaned_df.GEO != \"Canada\")\n",
    "\n",
    "\n",
    "values_to_exclude = [\n",
    "    \"Made investments outside of Canada\",\n",
    "    \"Exported services outside of Canada\",\n",
    "    \"Ownership by visible minority, Southeast Asian\",\n",
    "    \"Relocated any business or organizational activities or employees from another country into Canada\",\n",
    "    \"100 or more employees\",\n",
    "    \"Exported goods outside of Canada\",\n",
    "    \"Ownership by visible minority, South Asian\",\n",
    "    \"Imported goods from outside of Canada\",\n",
    "    \"Ownership by visible minority, Latin American\",\n",
    "    \"20 to 99 employees\",\n",
    "    \"North American Industry Classification System (NAICS), all industries\",\n",
    "    \"Relocated any business or organizational activities or employees from Canada to another country\",\n",
    "    \"Relocated any business or organizational activities or employees from another country to Canada\",\n",
    "    \"Imported services from outside of Canada\",\n",
    "    \"Age of business or organization, 3 to 10 years old\",\n",
    "    \"Majority ownership, woman\",\n",
    "    \"Majority ownership, person with a disability\",\n",
    "    \"Urban\",\n",
    "    \"5 to 19 employees\",\n",
    "    \"Age of business or organization, 2 years or less\",\n",
    "    \"Majority ownership, immigrant to Canada\"\n",
    "    \n",
    "]\n",
    "\n",
    "cleaned_df = cleaned_df.filter(~cleaned_df[\"Business characteristics\"].isin(values_to_exclude))\n",
    "\n",
    "# cleaned_df.show(truncate=False)\n",
    "# cleaned_df.write.csv(\"output.csv\", header=True)\n",
    "\n",
    "#Replacing NULL values with Zero in columns ValuePrdoucedByGenerativeAI(%) and ValueOfUsingGenerativeAI(%)\n",
    "cleaned_df =  cleaned_df.fillna(0, subset=['ValuePrdoucedByGenerativeAI(%)', 'ValueOfUsingGenerativeAI(%)'])\n",
    "# cleaned_df.show(truncate=False)\n",
    "\n",
    "\n",
    "from pyspark.sql import functions as F\n",
    "\n",
    "#Remove [31-33] such values like [23] from Business characteristics column\n",
    "cleaned_df = cleaned_df.withColumn(\"Business characteristics\", F.regexp_replace(cleaned_df[\"Business characteristics\"], r'\\[.*\\]', ''))\n",
    "cleaned_df.show(truncate=False)\n",
    "\n",
    "# cleaned_df.write.csv(\"output.csv\", header=True) \n",
    "\n",
    "print(\"Total no of records in the dataset => \" ,cleaned_df.count())\n",
    "print(\"Total records of Ontario province alone =>\" ,cleaned_df.filter(cleaned_df[\"GEO\"] == \"Ontario\").count())\n"
   ]
  },
  {
   "cell_type": "markdown",
   "metadata": {},
   "source": [
    "4. Data visulization"
   ]
  },
  {
   "cell_type": "code",
   "execution_count": null,
   "metadata": {},
   "outputs": [
    {
     "name": "stdout",
     "output_type": "stream",
     "text": [
      "+------------------------------------------------+-------------------------------+----------------------------------+\n",
      "|Business characteristics                        |Business's use of Generative AI|AverageValueOfUsingGenerativeAI(%)|\n",
      "+------------------------------------------------+-------------------------------+----------------------------------+\n",
      "|Information and cultural industries             |Already using Generative AI    |15.484615384615383                |\n",
      "|Professional, scientific and technical services |Already using Generative AI    |14.99230769230769                 |\n",
      "|Finance and insurance                           |Already using Generative AI    |12.453846153846154                |\n",
      "|Arts, entertainment and recreation              |Already using Generative AI    |9.253846153846153                 |\n",
      "|Manufacturing                                   |Already using Generative AI    |7.346153846153846                 |\n",
      "+------------------------------------------------+-------------------------------+----------------------------------+\n",
      "\n"
     ]
    },
    {
     "name": "stderr",
     "output_type": "stream",
     "text": [
      "/Library/Frameworks/Python.framework/Versions/3.11/lib/python3.11/site-packages/plotly/express/_core.py:2065: FutureWarning:\n",
      "\n",
      "When grouping with a length-1 list-like, you will need to pass a length-1 tuple to get_group in a future version of pandas. Pass `(name,)` instead of `name` to silence this warning.\n",
      "\n"
     ]
    },
    {
     "data": {
      "application/vnd.plotly.v1+json": {
       "config": {
        "plotlyServerURL": "https://plot.ly"
       },
       "data": [
        {
         "alignmentgroup": "True",
         "hovertemplate": "Business Sectors=%{x}<br>% Value Of Using Generative AI=%{y}<extra></extra>",
         "legendgroup": "Information and cultural industries ",
         "marker": {
          "color": "#636efa",
          "pattern": {
           "shape": ""
          }
         },
         "name": "Information and cultural industries ",
         "offsetgroup": "Information and cultural industries ",
         "orientation": "v",
         "showlegend": true,
         "textposition": "auto",
         "type": "bar",
         "x": [
          "Information and cultural industries "
         ],
         "xaxis": "x",
         "y": [
          15.484615384615383
         ],
         "yaxis": "y"
        },
        {
         "alignmentgroup": "True",
         "hovertemplate": "Business Sectors=%{x}<br>% Value Of Using Generative AI=%{y}<extra></extra>",
         "legendgroup": "Professional, scientific and technical services ",
         "marker": {
          "color": "#EF553B",
          "pattern": {
           "shape": ""
          }
         },
         "name": "Professional, scientific and technical services ",
         "offsetgroup": "Professional, scientific and technical services ",
         "orientation": "v",
         "showlegend": true,
         "textposition": "auto",
         "type": "bar",
         "x": [
          "Professional, scientific and technical services "
         ],
         "xaxis": "x",
         "y": [
          14.99230769230769
         ],
         "yaxis": "y"
        },
        {
         "alignmentgroup": "True",
         "hovertemplate": "Business Sectors=%{x}<br>% Value Of Using Generative AI=%{y}<extra></extra>",
         "legendgroup": "Finance and insurance ",
         "marker": {
          "color": "#00cc96",
          "pattern": {
           "shape": ""
          }
         },
         "name": "Finance and insurance ",
         "offsetgroup": "Finance and insurance ",
         "orientation": "v",
         "showlegend": true,
         "textposition": "auto",
         "type": "bar",
         "x": [
          "Finance and insurance "
         ],
         "xaxis": "x",
         "y": [
          12.453846153846154
         ],
         "yaxis": "y"
        },
        {
         "alignmentgroup": "True",
         "hovertemplate": "Business Sectors=%{x}<br>% Value Of Using Generative AI=%{y}<extra></extra>",
         "legendgroup": "Arts, entertainment and recreation ",
         "marker": {
          "color": "#ab63fa",
          "pattern": {
           "shape": ""
          }
         },
         "name": "Arts, entertainment and recreation ",
         "offsetgroup": "Arts, entertainment and recreation ",
         "orientation": "v",
         "showlegend": true,
         "textposition": "auto",
         "type": "bar",
         "x": [
          "Arts, entertainment and recreation "
         ],
         "xaxis": "x",
         "y": [
          9.253846153846153
         ],
         "yaxis": "y"
        },
        {
         "alignmentgroup": "True",
         "hovertemplate": "Business Sectors=%{x}<br>% Value Of Using Generative AI=%{y}<extra></extra>",
         "legendgroup": "Manufacturing ",
         "marker": {
          "color": "#FFA15A",
          "pattern": {
           "shape": ""
          }
         },
         "name": "Manufacturing ",
         "offsetgroup": "Manufacturing ",
         "orientation": "v",
         "showlegend": true,
         "textposition": "auto",
         "type": "bar",
         "x": [
          "Manufacturing "
         ],
         "xaxis": "x",
         "y": [
          7.346153846153846
         ],
         "yaxis": "y"
        }
       ],
       "layout": {
        "barmode": "relative",
        "legend": {
         "title": {
          "text": "Business Sectors"
         },
         "tracegroupgap": 0
        },
        "template": {
         "data": {
          "bar": [
           {
            "error_x": {
             "color": "#2a3f5f"
            },
            "error_y": {
             "color": "#2a3f5f"
            },
            "marker": {
             "line": {
              "color": "#E5ECF6",
              "width": 0.5
             },
             "pattern": {
              "fillmode": "overlay",
              "size": 10,
              "solidity": 0.2
             }
            },
            "type": "bar"
           }
          ],
          "barpolar": [
           {
            "marker": {
             "line": {
              "color": "#E5ECF6",
              "width": 0.5
             },
             "pattern": {
              "fillmode": "overlay",
              "size": 10,
              "solidity": 0.2
             }
            },
            "type": "barpolar"
           }
          ],
          "carpet": [
           {
            "aaxis": {
             "endlinecolor": "#2a3f5f",
             "gridcolor": "white",
             "linecolor": "white",
             "minorgridcolor": "white",
             "startlinecolor": "#2a3f5f"
            },
            "baxis": {
             "endlinecolor": "#2a3f5f",
             "gridcolor": "white",
             "linecolor": "white",
             "minorgridcolor": "white",
             "startlinecolor": "#2a3f5f"
            },
            "type": "carpet"
           }
          ],
          "choropleth": [
           {
            "colorbar": {
             "outlinewidth": 0,
             "ticks": ""
            },
            "type": "choropleth"
           }
          ],
          "contour": [
           {
            "colorbar": {
             "outlinewidth": 0,
             "ticks": ""
            },
            "colorscale": [
             [
              0,
              "#0d0887"
             ],
             [
              0.1111111111111111,
              "#46039f"
             ],
             [
              0.2222222222222222,
              "#7201a8"
             ],
             [
              0.3333333333333333,
              "#9c179e"
             ],
             [
              0.4444444444444444,
              "#bd3786"
             ],
             [
              0.5555555555555556,
              "#d8576b"
             ],
             [
              0.6666666666666666,
              "#ed7953"
             ],
             [
              0.7777777777777778,
              "#fb9f3a"
             ],
             [
              0.8888888888888888,
              "#fdca26"
             ],
             [
              1,
              "#f0f921"
             ]
            ],
            "type": "contour"
           }
          ],
          "contourcarpet": [
           {
            "colorbar": {
             "outlinewidth": 0,
             "ticks": ""
            },
            "type": "contourcarpet"
           }
          ],
          "heatmap": [
           {
            "colorbar": {
             "outlinewidth": 0,
             "ticks": ""
            },
            "colorscale": [
             [
              0,
              "#0d0887"
             ],
             [
              0.1111111111111111,
              "#46039f"
             ],
             [
              0.2222222222222222,
              "#7201a8"
             ],
             [
              0.3333333333333333,
              "#9c179e"
             ],
             [
              0.4444444444444444,
              "#bd3786"
             ],
             [
              0.5555555555555556,
              "#d8576b"
             ],
             [
              0.6666666666666666,
              "#ed7953"
             ],
             [
              0.7777777777777778,
              "#fb9f3a"
             ],
             [
              0.8888888888888888,
              "#fdca26"
             ],
             [
              1,
              "#f0f921"
             ]
            ],
            "type": "heatmap"
           }
          ],
          "heatmapgl": [
           {
            "colorbar": {
             "outlinewidth": 0,
             "ticks": ""
            },
            "colorscale": [
             [
              0,
              "#0d0887"
             ],
             [
              0.1111111111111111,
              "#46039f"
             ],
             [
              0.2222222222222222,
              "#7201a8"
             ],
             [
              0.3333333333333333,
              "#9c179e"
             ],
             [
              0.4444444444444444,
              "#bd3786"
             ],
             [
              0.5555555555555556,
              "#d8576b"
             ],
             [
              0.6666666666666666,
              "#ed7953"
             ],
             [
              0.7777777777777778,
              "#fb9f3a"
             ],
             [
              0.8888888888888888,
              "#fdca26"
             ],
             [
              1,
              "#f0f921"
             ]
            ],
            "type": "heatmapgl"
           }
          ],
          "histogram": [
           {
            "marker": {
             "pattern": {
              "fillmode": "overlay",
              "size": 10,
              "solidity": 0.2
             }
            },
            "type": "histogram"
           }
          ],
          "histogram2d": [
           {
            "colorbar": {
             "outlinewidth": 0,
             "ticks": ""
            },
            "colorscale": [
             [
              0,
              "#0d0887"
             ],
             [
              0.1111111111111111,
              "#46039f"
             ],
             [
              0.2222222222222222,
              "#7201a8"
             ],
             [
              0.3333333333333333,
              "#9c179e"
             ],
             [
              0.4444444444444444,
              "#bd3786"
             ],
             [
              0.5555555555555556,
              "#d8576b"
             ],
             [
              0.6666666666666666,
              "#ed7953"
             ],
             [
              0.7777777777777778,
              "#fb9f3a"
             ],
             [
              0.8888888888888888,
              "#fdca26"
             ],
             [
              1,
              "#f0f921"
             ]
            ],
            "type": "histogram2d"
           }
          ],
          "histogram2dcontour": [
           {
            "colorbar": {
             "outlinewidth": 0,
             "ticks": ""
            },
            "colorscale": [
             [
              0,
              "#0d0887"
             ],
             [
              0.1111111111111111,
              "#46039f"
             ],
             [
              0.2222222222222222,
              "#7201a8"
             ],
             [
              0.3333333333333333,
              "#9c179e"
             ],
             [
              0.4444444444444444,
              "#bd3786"
             ],
             [
              0.5555555555555556,
              "#d8576b"
             ],
             [
              0.6666666666666666,
              "#ed7953"
             ],
             [
              0.7777777777777778,
              "#fb9f3a"
             ],
             [
              0.8888888888888888,
              "#fdca26"
             ],
             [
              1,
              "#f0f921"
             ]
            ],
            "type": "histogram2dcontour"
           }
          ],
          "mesh3d": [
           {
            "colorbar": {
             "outlinewidth": 0,
             "ticks": ""
            },
            "type": "mesh3d"
           }
          ],
          "parcoords": [
           {
            "line": {
             "colorbar": {
              "outlinewidth": 0,
              "ticks": ""
             }
            },
            "type": "parcoords"
           }
          ],
          "pie": [
           {
            "automargin": true,
            "type": "pie"
           }
          ],
          "scatter": [
           {
            "fillpattern": {
             "fillmode": "overlay",
             "size": 10,
             "solidity": 0.2
            },
            "type": "scatter"
           }
          ],
          "scatter3d": [
           {
            "line": {
             "colorbar": {
              "outlinewidth": 0,
              "ticks": ""
             }
            },
            "marker": {
             "colorbar": {
              "outlinewidth": 0,
              "ticks": ""
             }
            },
            "type": "scatter3d"
           }
          ],
          "scattercarpet": [
           {
            "marker": {
             "colorbar": {
              "outlinewidth": 0,
              "ticks": ""
             }
            },
            "type": "scattercarpet"
           }
          ],
          "scattergeo": [
           {
            "marker": {
             "colorbar": {
              "outlinewidth": 0,
              "ticks": ""
             }
            },
            "type": "scattergeo"
           }
          ],
          "scattergl": [
           {
            "marker": {
             "colorbar": {
              "outlinewidth": 0,
              "ticks": ""
             }
            },
            "type": "scattergl"
           }
          ],
          "scattermapbox": [
           {
            "marker": {
             "colorbar": {
              "outlinewidth": 0,
              "ticks": ""
             }
            },
            "type": "scattermapbox"
           }
          ],
          "scatterpolar": [
           {
            "marker": {
             "colorbar": {
              "outlinewidth": 0,
              "ticks": ""
             }
            },
            "type": "scatterpolar"
           }
          ],
          "scatterpolargl": [
           {
            "marker": {
             "colorbar": {
              "outlinewidth": 0,
              "ticks": ""
             }
            },
            "type": "scatterpolargl"
           }
          ],
          "scatterternary": [
           {
            "marker": {
             "colorbar": {
              "outlinewidth": 0,
              "ticks": ""
             }
            },
            "type": "scatterternary"
           }
          ],
          "surface": [
           {
            "colorbar": {
             "outlinewidth": 0,
             "ticks": ""
            },
            "colorscale": [
             [
              0,
              "#0d0887"
             ],
             [
              0.1111111111111111,
              "#46039f"
             ],
             [
              0.2222222222222222,
              "#7201a8"
             ],
             [
              0.3333333333333333,
              "#9c179e"
             ],
             [
              0.4444444444444444,
              "#bd3786"
             ],
             [
              0.5555555555555556,
              "#d8576b"
             ],
             [
              0.6666666666666666,
              "#ed7953"
             ],
             [
              0.7777777777777778,
              "#fb9f3a"
             ],
             [
              0.8888888888888888,
              "#fdca26"
             ],
             [
              1,
              "#f0f921"
             ]
            ],
            "type": "surface"
           }
          ],
          "table": [
           {
            "cells": {
             "fill": {
              "color": "#EBF0F8"
             },
             "line": {
              "color": "white"
             }
            },
            "header": {
             "fill": {
              "color": "#C8D4E3"
             },
             "line": {
              "color": "white"
             }
            },
            "type": "table"
           }
          ]
         },
         "layout": {
          "annotationdefaults": {
           "arrowcolor": "#2a3f5f",
           "arrowhead": 0,
           "arrowwidth": 1
          },
          "autotypenumbers": "strict",
          "coloraxis": {
           "colorbar": {
            "outlinewidth": 0,
            "ticks": ""
           }
          },
          "colorscale": {
           "diverging": [
            [
             0,
             "#8e0152"
            ],
            [
             0.1,
             "#c51b7d"
            ],
            [
             0.2,
             "#de77ae"
            ],
            [
             0.3,
             "#f1b6da"
            ],
            [
             0.4,
             "#fde0ef"
            ],
            [
             0.5,
             "#f7f7f7"
            ],
            [
             0.6,
             "#e6f5d0"
            ],
            [
             0.7,
             "#b8e186"
            ],
            [
             0.8,
             "#7fbc41"
            ],
            [
             0.9,
             "#4d9221"
            ],
            [
             1,
             "#276419"
            ]
           ],
           "sequential": [
            [
             0,
             "#0d0887"
            ],
            [
             0.1111111111111111,
             "#46039f"
            ],
            [
             0.2222222222222222,
             "#7201a8"
            ],
            [
             0.3333333333333333,
             "#9c179e"
            ],
            [
             0.4444444444444444,
             "#bd3786"
            ],
            [
             0.5555555555555556,
             "#d8576b"
            ],
            [
             0.6666666666666666,
             "#ed7953"
            ],
            [
             0.7777777777777778,
             "#fb9f3a"
            ],
            [
             0.8888888888888888,
             "#fdca26"
            ],
            [
             1,
             "#f0f921"
            ]
           ],
           "sequentialminus": [
            [
             0,
             "#0d0887"
            ],
            [
             0.1111111111111111,
             "#46039f"
            ],
            [
             0.2222222222222222,
             "#7201a8"
            ],
            [
             0.3333333333333333,
             "#9c179e"
            ],
            [
             0.4444444444444444,
             "#bd3786"
            ],
            [
             0.5555555555555556,
             "#d8576b"
            ],
            [
             0.6666666666666666,
             "#ed7953"
            ],
            [
             0.7777777777777778,
             "#fb9f3a"
            ],
            [
             0.8888888888888888,
             "#fdca26"
            ],
            [
             1,
             "#f0f921"
            ]
           ]
          },
          "colorway": [
           "#636efa",
           "#EF553B",
           "#00cc96",
           "#ab63fa",
           "#FFA15A",
           "#19d3f3",
           "#FF6692",
           "#B6E880",
           "#FF97FF",
           "#FECB52"
          ],
          "font": {
           "color": "#2a3f5f"
          },
          "geo": {
           "bgcolor": "white",
           "lakecolor": "white",
           "landcolor": "#E5ECF6",
           "showlakes": true,
           "showland": true,
           "subunitcolor": "white"
          },
          "hoverlabel": {
           "align": "left"
          },
          "hovermode": "closest",
          "mapbox": {
           "style": "light"
          },
          "paper_bgcolor": "white",
          "plot_bgcolor": "#E5ECF6",
          "polar": {
           "angularaxis": {
            "gridcolor": "white",
            "linecolor": "white",
            "ticks": ""
           },
           "bgcolor": "#E5ECF6",
           "radialaxis": {
            "gridcolor": "white",
            "linecolor": "white",
            "ticks": ""
           }
          },
          "scene": {
           "xaxis": {
            "backgroundcolor": "#E5ECF6",
            "gridcolor": "white",
            "gridwidth": 2,
            "linecolor": "white",
            "showbackground": true,
            "ticks": "",
            "zerolinecolor": "white"
           },
           "yaxis": {
            "backgroundcolor": "#E5ECF6",
            "gridcolor": "white",
            "gridwidth": 2,
            "linecolor": "white",
            "showbackground": true,
            "ticks": "",
            "zerolinecolor": "white"
           },
           "zaxis": {
            "backgroundcolor": "#E5ECF6",
            "gridcolor": "white",
            "gridwidth": 2,
            "linecolor": "white",
            "showbackground": true,
            "ticks": "",
            "zerolinecolor": "white"
           }
          },
          "shapedefaults": {
           "line": {
            "color": "#2a3f5f"
           }
          },
          "ternary": {
           "aaxis": {
            "gridcolor": "white",
            "linecolor": "white",
            "ticks": ""
           },
           "baxis": {
            "gridcolor": "white",
            "linecolor": "white",
            "ticks": ""
           },
           "bgcolor": "#E5ECF6",
           "caxis": {
            "gridcolor": "white",
            "linecolor": "white",
            "ticks": ""
           }
          },
          "title": {
           "x": 0.05
          },
          "xaxis": {
           "automargin": true,
           "gridcolor": "white",
           "linecolor": "white",
           "ticks": "",
           "title": {
            "standoff": 15
           },
           "zerolinecolor": "white",
           "zerolinewidth": 2
          },
          "yaxis": {
           "automargin": true,
           "gridcolor": "white",
           "linecolor": "white",
           "ticks": "",
           "title": {
            "standoff": 15
           },
           "zerolinecolor": "white",
           "zerolinewidth": 2
          }
         }
        },
        "title": {
         "text": "Top 5 Business Sectors Already Using Generative AI across Canada"
        },
        "xaxis": {
         "anchor": "y",
         "categoryarray": [
          "Information and cultural industries ",
          "Professional, scientific and technical services ",
          "Finance and insurance ",
          "Arts, entertainment and recreation ",
          "Manufacturing "
         ],
         "categoryorder": "array",
         "domain": [
          0,
          1
         ],
         "title": {
          "text": "Business Sectors"
         }
        },
        "yaxis": {
         "anchor": "x",
         "domain": [
          0,
          1
         ],
         "title": {
          "text": "% Value Of Using Generative AI"
         }
        }
       }
      }
     },
     "metadata": {},
     "output_type": "display_data"
    },
    {
     "name": "stdout",
     "output_type": "stream",
     "text": [
      "+--------------------+-------------------------------+----------------------------------+\n",
      "|GEO                 |Business's use of Generative AI|AverageValueOfUsingGenerativeAI(%)|\n",
      "+--------------------+-------------------------------+----------------------------------+\n",
      "|Ontario             |Already using Generative AI    |9.31063829787234                  |\n",
      "|Prince Edward Island|Already using Generative AI    |7.278723404255319                 |\n",
      "|British Columbia    |Already using Generative AI    |7.221276595744678                 |\n",
      "|Nova Scotia         |Already using Generative AI    |7.097872340425534                 |\n",
      "|Alberta             |Already using Generative AI    |6.448936170212766                 |\n",
      "+--------------------+-------------------------------+----------------------------------+\n",
      "\n"
     ]
    },
    {
     "name": "stderr",
     "output_type": "stream",
     "text": [
      "/Library/Frameworks/Python.framework/Versions/3.11/lib/python3.11/site-packages/plotly/express/_core.py:2065: FutureWarning:\n",
      "\n",
      "When grouping with a length-1 list-like, you will need to pass a length-1 tuple to get_group in a future version of pandas. Pass `(name,)` instead of `name` to silence this warning.\n",
      "\n"
     ]
    },
    {
     "data": {
      "application/vnd.plotly.v1+json": {
       "config": {
        "plotlyServerURL": "https://plot.ly"
       },
       "data": [
        {
         "alignmentgroup": "True",
         "hovertemplate": "Province=%{x}<br>% Value Of Using Generative AI=%{y}<extra></extra>",
         "legendgroup": "Ontario",
         "marker": {
          "color": "#636efa",
          "pattern": {
           "shape": ""
          }
         },
         "name": "Ontario",
         "offsetgroup": "Ontario",
         "orientation": "v",
         "showlegend": true,
         "textposition": "auto",
         "type": "bar",
         "x": [
          "Ontario"
         ],
         "xaxis": "x",
         "y": [
          9.31063829787234
         ],
         "yaxis": "y"
        },
        {
         "alignmentgroup": "True",
         "hovertemplate": "Province=%{x}<br>% Value Of Using Generative AI=%{y}<extra></extra>",
         "legendgroup": "Prince Edward Island",
         "marker": {
          "color": "#EF553B",
          "pattern": {
           "shape": ""
          }
         },
         "name": "Prince Edward Island",
         "offsetgroup": "Prince Edward Island",
         "orientation": "v",
         "showlegend": true,
         "textposition": "auto",
         "type": "bar",
         "x": [
          "Prince Edward Island"
         ],
         "xaxis": "x",
         "y": [
          7.278723404255319
         ],
         "yaxis": "y"
        },
        {
         "alignmentgroup": "True",
         "hovertemplate": "Province=%{x}<br>% Value Of Using Generative AI=%{y}<extra></extra>",
         "legendgroup": "British Columbia",
         "marker": {
          "color": "#00cc96",
          "pattern": {
           "shape": ""
          }
         },
         "name": "British Columbia",
         "offsetgroup": "British Columbia",
         "orientation": "v",
         "showlegend": true,
         "textposition": "auto",
         "type": "bar",
         "x": [
          "British Columbia"
         ],
         "xaxis": "x",
         "y": [
          7.221276595744678
         ],
         "yaxis": "y"
        },
        {
         "alignmentgroup": "True",
         "hovertemplate": "Province=%{x}<br>% Value Of Using Generative AI=%{y}<extra></extra>",
         "legendgroup": "Nova Scotia",
         "marker": {
          "color": "#ab63fa",
          "pattern": {
           "shape": ""
          }
         },
         "name": "Nova Scotia",
         "offsetgroup": "Nova Scotia",
         "orientation": "v",
         "showlegend": true,
         "textposition": "auto",
         "type": "bar",
         "x": [
          "Nova Scotia"
         ],
         "xaxis": "x",
         "y": [
          7.097872340425534
         ],
         "yaxis": "y"
        },
        {
         "alignmentgroup": "True",
         "hovertemplate": "Province=%{x}<br>% Value Of Using Generative AI=%{y}<extra></extra>",
         "legendgroup": "Alberta",
         "marker": {
          "color": "#FFA15A",
          "pattern": {
           "shape": ""
          }
         },
         "name": "Alberta",
         "offsetgroup": "Alberta",
         "orientation": "v",
         "showlegend": true,
         "textposition": "auto",
         "type": "bar",
         "x": [
          "Alberta"
         ],
         "xaxis": "x",
         "y": [
          6.448936170212766
         ],
         "yaxis": "y"
        }
       ],
       "layout": {
        "barmode": "relative",
        "legend": {
         "title": {
          "text": "Province"
         },
         "tracegroupgap": 0
        },
        "template": {
         "data": {
          "bar": [
           {
            "error_x": {
             "color": "#2a3f5f"
            },
            "error_y": {
             "color": "#2a3f5f"
            },
            "marker": {
             "line": {
              "color": "#E5ECF6",
              "width": 0.5
             },
             "pattern": {
              "fillmode": "overlay",
              "size": 10,
              "solidity": 0.2
             }
            },
            "type": "bar"
           }
          ],
          "barpolar": [
           {
            "marker": {
             "line": {
              "color": "#E5ECF6",
              "width": 0.5
             },
             "pattern": {
              "fillmode": "overlay",
              "size": 10,
              "solidity": 0.2
             }
            },
            "type": "barpolar"
           }
          ],
          "carpet": [
           {
            "aaxis": {
             "endlinecolor": "#2a3f5f",
             "gridcolor": "white",
             "linecolor": "white",
             "minorgridcolor": "white",
             "startlinecolor": "#2a3f5f"
            },
            "baxis": {
             "endlinecolor": "#2a3f5f",
             "gridcolor": "white",
             "linecolor": "white",
             "minorgridcolor": "white",
             "startlinecolor": "#2a3f5f"
            },
            "type": "carpet"
           }
          ],
          "choropleth": [
           {
            "colorbar": {
             "outlinewidth": 0,
             "ticks": ""
            },
            "type": "choropleth"
           }
          ],
          "contour": [
           {
            "colorbar": {
             "outlinewidth": 0,
             "ticks": ""
            },
            "colorscale": [
             [
              0,
              "#0d0887"
             ],
             [
              0.1111111111111111,
              "#46039f"
             ],
             [
              0.2222222222222222,
              "#7201a8"
             ],
             [
              0.3333333333333333,
              "#9c179e"
             ],
             [
              0.4444444444444444,
              "#bd3786"
             ],
             [
              0.5555555555555556,
              "#d8576b"
             ],
             [
              0.6666666666666666,
              "#ed7953"
             ],
             [
              0.7777777777777778,
              "#fb9f3a"
             ],
             [
              0.8888888888888888,
              "#fdca26"
             ],
             [
              1,
              "#f0f921"
             ]
            ],
            "type": "contour"
           }
          ],
          "contourcarpet": [
           {
            "colorbar": {
             "outlinewidth": 0,
             "ticks": ""
            },
            "type": "contourcarpet"
           }
          ],
          "heatmap": [
           {
            "colorbar": {
             "outlinewidth": 0,
             "ticks": ""
            },
            "colorscale": [
             [
              0,
              "#0d0887"
             ],
             [
              0.1111111111111111,
              "#46039f"
             ],
             [
              0.2222222222222222,
              "#7201a8"
             ],
             [
              0.3333333333333333,
              "#9c179e"
             ],
             [
              0.4444444444444444,
              "#bd3786"
             ],
             [
              0.5555555555555556,
              "#d8576b"
             ],
             [
              0.6666666666666666,
              "#ed7953"
             ],
             [
              0.7777777777777778,
              "#fb9f3a"
             ],
             [
              0.8888888888888888,
              "#fdca26"
             ],
             [
              1,
              "#f0f921"
             ]
            ],
            "type": "heatmap"
           }
          ],
          "heatmapgl": [
           {
            "colorbar": {
             "outlinewidth": 0,
             "ticks": ""
            },
            "colorscale": [
             [
              0,
              "#0d0887"
             ],
             [
              0.1111111111111111,
              "#46039f"
             ],
             [
              0.2222222222222222,
              "#7201a8"
             ],
             [
              0.3333333333333333,
              "#9c179e"
             ],
             [
              0.4444444444444444,
              "#bd3786"
             ],
             [
              0.5555555555555556,
              "#d8576b"
             ],
             [
              0.6666666666666666,
              "#ed7953"
             ],
             [
              0.7777777777777778,
              "#fb9f3a"
             ],
             [
              0.8888888888888888,
              "#fdca26"
             ],
             [
              1,
              "#f0f921"
             ]
            ],
            "type": "heatmapgl"
           }
          ],
          "histogram": [
           {
            "marker": {
             "pattern": {
              "fillmode": "overlay",
              "size": 10,
              "solidity": 0.2
             }
            },
            "type": "histogram"
           }
          ],
          "histogram2d": [
           {
            "colorbar": {
             "outlinewidth": 0,
             "ticks": ""
            },
            "colorscale": [
             [
              0,
              "#0d0887"
             ],
             [
              0.1111111111111111,
              "#46039f"
             ],
             [
              0.2222222222222222,
              "#7201a8"
             ],
             [
              0.3333333333333333,
              "#9c179e"
             ],
             [
              0.4444444444444444,
              "#bd3786"
             ],
             [
              0.5555555555555556,
              "#d8576b"
             ],
             [
              0.6666666666666666,
              "#ed7953"
             ],
             [
              0.7777777777777778,
              "#fb9f3a"
             ],
             [
              0.8888888888888888,
              "#fdca26"
             ],
             [
              1,
              "#f0f921"
             ]
            ],
            "type": "histogram2d"
           }
          ],
          "histogram2dcontour": [
           {
            "colorbar": {
             "outlinewidth": 0,
             "ticks": ""
            },
            "colorscale": [
             [
              0,
              "#0d0887"
             ],
             [
              0.1111111111111111,
              "#46039f"
             ],
             [
              0.2222222222222222,
              "#7201a8"
             ],
             [
              0.3333333333333333,
              "#9c179e"
             ],
             [
              0.4444444444444444,
              "#bd3786"
             ],
             [
              0.5555555555555556,
              "#d8576b"
             ],
             [
              0.6666666666666666,
              "#ed7953"
             ],
             [
              0.7777777777777778,
              "#fb9f3a"
             ],
             [
              0.8888888888888888,
              "#fdca26"
             ],
             [
              1,
              "#f0f921"
             ]
            ],
            "type": "histogram2dcontour"
           }
          ],
          "mesh3d": [
           {
            "colorbar": {
             "outlinewidth": 0,
             "ticks": ""
            },
            "type": "mesh3d"
           }
          ],
          "parcoords": [
           {
            "line": {
             "colorbar": {
              "outlinewidth": 0,
              "ticks": ""
             }
            },
            "type": "parcoords"
           }
          ],
          "pie": [
           {
            "automargin": true,
            "type": "pie"
           }
          ],
          "scatter": [
           {
            "fillpattern": {
             "fillmode": "overlay",
             "size": 10,
             "solidity": 0.2
            },
            "type": "scatter"
           }
          ],
          "scatter3d": [
           {
            "line": {
             "colorbar": {
              "outlinewidth": 0,
              "ticks": ""
             }
            },
            "marker": {
             "colorbar": {
              "outlinewidth": 0,
              "ticks": ""
             }
            },
            "type": "scatter3d"
           }
          ],
          "scattercarpet": [
           {
            "marker": {
             "colorbar": {
              "outlinewidth": 0,
              "ticks": ""
             }
            },
            "type": "scattercarpet"
           }
          ],
          "scattergeo": [
           {
            "marker": {
             "colorbar": {
              "outlinewidth": 0,
              "ticks": ""
             }
            },
            "type": "scattergeo"
           }
          ],
          "scattergl": [
           {
            "marker": {
             "colorbar": {
              "outlinewidth": 0,
              "ticks": ""
             }
            },
            "type": "scattergl"
           }
          ],
          "scattermapbox": [
           {
            "marker": {
             "colorbar": {
              "outlinewidth": 0,
              "ticks": ""
             }
            },
            "type": "scattermapbox"
           }
          ],
          "scatterpolar": [
           {
            "marker": {
             "colorbar": {
              "outlinewidth": 0,
              "ticks": ""
             }
            },
            "type": "scatterpolar"
           }
          ],
          "scatterpolargl": [
           {
            "marker": {
             "colorbar": {
              "outlinewidth": 0,
              "ticks": ""
             }
            },
            "type": "scatterpolargl"
           }
          ],
          "scatterternary": [
           {
            "marker": {
             "colorbar": {
              "outlinewidth": 0,
              "ticks": ""
             }
            },
            "type": "scatterternary"
           }
          ],
          "surface": [
           {
            "colorbar": {
             "outlinewidth": 0,
             "ticks": ""
            },
            "colorscale": [
             [
              0,
              "#0d0887"
             ],
             [
              0.1111111111111111,
              "#46039f"
             ],
             [
              0.2222222222222222,
              "#7201a8"
             ],
             [
              0.3333333333333333,
              "#9c179e"
             ],
             [
              0.4444444444444444,
              "#bd3786"
             ],
             [
              0.5555555555555556,
              "#d8576b"
             ],
             [
              0.6666666666666666,
              "#ed7953"
             ],
             [
              0.7777777777777778,
              "#fb9f3a"
             ],
             [
              0.8888888888888888,
              "#fdca26"
             ],
             [
              1,
              "#f0f921"
             ]
            ],
            "type": "surface"
           }
          ],
          "table": [
           {
            "cells": {
             "fill": {
              "color": "#EBF0F8"
             },
             "line": {
              "color": "white"
             }
            },
            "header": {
             "fill": {
              "color": "#C8D4E3"
             },
             "line": {
              "color": "white"
             }
            },
            "type": "table"
           }
          ]
         },
         "layout": {
          "annotationdefaults": {
           "arrowcolor": "#2a3f5f",
           "arrowhead": 0,
           "arrowwidth": 1
          },
          "autotypenumbers": "strict",
          "coloraxis": {
           "colorbar": {
            "outlinewidth": 0,
            "ticks": ""
           }
          },
          "colorscale": {
           "diverging": [
            [
             0,
             "#8e0152"
            ],
            [
             0.1,
             "#c51b7d"
            ],
            [
             0.2,
             "#de77ae"
            ],
            [
             0.3,
             "#f1b6da"
            ],
            [
             0.4,
             "#fde0ef"
            ],
            [
             0.5,
             "#f7f7f7"
            ],
            [
             0.6,
             "#e6f5d0"
            ],
            [
             0.7,
             "#b8e186"
            ],
            [
             0.8,
             "#7fbc41"
            ],
            [
             0.9,
             "#4d9221"
            ],
            [
             1,
             "#276419"
            ]
           ],
           "sequential": [
            [
             0,
             "#0d0887"
            ],
            [
             0.1111111111111111,
             "#46039f"
            ],
            [
             0.2222222222222222,
             "#7201a8"
            ],
            [
             0.3333333333333333,
             "#9c179e"
            ],
            [
             0.4444444444444444,
             "#bd3786"
            ],
            [
             0.5555555555555556,
             "#d8576b"
            ],
            [
             0.6666666666666666,
             "#ed7953"
            ],
            [
             0.7777777777777778,
             "#fb9f3a"
            ],
            [
             0.8888888888888888,
             "#fdca26"
            ],
            [
             1,
             "#f0f921"
            ]
           ],
           "sequentialminus": [
            [
             0,
             "#0d0887"
            ],
            [
             0.1111111111111111,
             "#46039f"
            ],
            [
             0.2222222222222222,
             "#7201a8"
            ],
            [
             0.3333333333333333,
             "#9c179e"
            ],
            [
             0.4444444444444444,
             "#bd3786"
            ],
            [
             0.5555555555555556,
             "#d8576b"
            ],
            [
             0.6666666666666666,
             "#ed7953"
            ],
            [
             0.7777777777777778,
             "#fb9f3a"
            ],
            [
             0.8888888888888888,
             "#fdca26"
            ],
            [
             1,
             "#f0f921"
            ]
           ]
          },
          "colorway": [
           "#636efa",
           "#EF553B",
           "#00cc96",
           "#ab63fa",
           "#FFA15A",
           "#19d3f3",
           "#FF6692",
           "#B6E880",
           "#FF97FF",
           "#FECB52"
          ],
          "font": {
           "color": "#2a3f5f"
          },
          "geo": {
           "bgcolor": "white",
           "lakecolor": "white",
           "landcolor": "#E5ECF6",
           "showlakes": true,
           "showland": true,
           "subunitcolor": "white"
          },
          "hoverlabel": {
           "align": "left"
          },
          "hovermode": "closest",
          "mapbox": {
           "style": "light"
          },
          "paper_bgcolor": "white",
          "plot_bgcolor": "#E5ECF6",
          "polar": {
           "angularaxis": {
            "gridcolor": "white",
            "linecolor": "white",
            "ticks": ""
           },
           "bgcolor": "#E5ECF6",
           "radialaxis": {
            "gridcolor": "white",
            "linecolor": "white",
            "ticks": ""
           }
          },
          "scene": {
           "xaxis": {
            "backgroundcolor": "#E5ECF6",
            "gridcolor": "white",
            "gridwidth": 2,
            "linecolor": "white",
            "showbackground": true,
            "ticks": "",
            "zerolinecolor": "white"
           },
           "yaxis": {
            "backgroundcolor": "#E5ECF6",
            "gridcolor": "white",
            "gridwidth": 2,
            "linecolor": "white",
            "showbackground": true,
            "ticks": "",
            "zerolinecolor": "white"
           },
           "zaxis": {
            "backgroundcolor": "#E5ECF6",
            "gridcolor": "white",
            "gridwidth": 2,
            "linecolor": "white",
            "showbackground": true,
            "ticks": "",
            "zerolinecolor": "white"
           }
          },
          "shapedefaults": {
           "line": {
            "color": "#2a3f5f"
           }
          },
          "ternary": {
           "aaxis": {
            "gridcolor": "white",
            "linecolor": "white",
            "ticks": ""
           },
           "baxis": {
            "gridcolor": "white",
            "linecolor": "white",
            "ticks": ""
           },
           "bgcolor": "#E5ECF6",
           "caxis": {
            "gridcolor": "white",
            "linecolor": "white",
            "ticks": ""
           }
          },
          "title": {
           "x": 0.05
          },
          "xaxis": {
           "automargin": true,
           "gridcolor": "white",
           "linecolor": "white",
           "ticks": "",
           "title": {
            "standoff": 15
           },
           "zerolinecolor": "white",
           "zerolinewidth": 2
          },
          "yaxis": {
           "automargin": true,
           "gridcolor": "white",
           "linecolor": "white",
           "ticks": "",
           "title": {
            "standoff": 15
           },
           "zerolinecolor": "white",
           "zerolinewidth": 2
          }
         }
        },
        "title": {
         "text": "Top 5 Provinces Already Using Generative AI in Canada"
        },
        "xaxis": {
         "anchor": "y",
         "categoryarray": [
          "Ontario",
          "Prince Edward Island",
          "British Columbia",
          "Nova Scotia",
          "Alberta"
         ],
         "categoryorder": "array",
         "domain": [
          0,
          1
         ],
         "title": {
          "text": "Province"
         }
        },
        "yaxis": {
         "anchor": "x",
         "domain": [
          0,
          1
         ],
         "title": {
          "text": "% Value Of Using Generative AI"
         }
        }
       }
      }
     },
     "metadata": {},
     "output_type": "display_data"
    }
   ],
   "source": [
    "df = spark.read.csv(\"output.csv\", header=True,inferSchema=True)\n",
    "\n",
    "df =df.withColumnRenamed(\"GEO\",\"Province\")\n",
    "\n",
    "from pyspark.sql import functions as F\n",
    "\n",
    "top5_business_chars = cleaned_df \\\n",
    "                .groupBy(\"Business characteristics\",\"Business's use of Generative AI\") \\\n",
    "                .agg(F.avg(\"ValueOfUsingGenerativeAI(%)\") \\\n",
    "                .alias(\"AverageValueOfUsingGenerativeAI(%)\")) \\\n",
    "                .sort(\"AverageValueOfUsingGenerativeAI(%)\", ascending=False)\n",
    "                \n",
    "top5_business_chars = top5_business_chars.filter(top5_business_chars[\"Business's use of Generative AI\"] == \"Already using Generative AI\") \\\n",
    "            .limit(5)\n",
    "\n",
    "\n",
    "top5_business_chars.show(truncate=False)\n",
    "\n",
    "# # Create a bar chart\n",
    "import plotly.express as px\n",
    "\n",
    "# Convert Spark DataFrame to Pandas DataFrame\n",
    "top5_business_chars_pd = top5_business_chars.toPandas()\n",
    "\n",
    "top5_business_chars_pd = top5_business_chars_pd.rename(columns={'Business characteristics': 'Business Sectors',\n",
    "                                                                'AverageValueOfUsingGenerativeAI(%)': 'Average Value Of Using Generative AI (%)'})\n",
    "\n",
    "# Create a bar chart\n",
    "fig = px.bar(top5_business_chars_pd, \n",
    "             x='Business Sectors', \n",
    "             y='Average Value Of Using Generative AI (%)', \n",
    "             title='Top 5 Business Sectors Already Using Generative AI across Canada',\n",
    "             labels={'Average Value Of Using Generative AI (%)':'% Value Of Using Generative AI'},\n",
    "             color='Business Sectors')\n",
    "\n",
    "\n",
    "\n",
    "fig.show()\n",
    "fig.write_image(\"../visualization/Top5BusinessCharacteristicsAlreadyUsingGenerativeAI.pdf\")\n",
    "\n",
    "\n",
    "# Top 5 provinces using Generative AI in Canada\n",
    "\n",
    "top5_provinces = cleaned_df \\\n",
    "                .groupBy(\"GEO\",\"Business's use of Generative AI\") \\\n",
    "                .agg(F.avg(\"ValueOfUsingGenerativeAI(%)\") \\\n",
    "                .alias(\"AverageValueOfUsingGenerativeAI(%)\")) \\\n",
    "                .sort(\"AverageValueOfUsingGenerativeAI(%)\", ascending=False)\n",
    "\n",
    "top5_provinces = top5_provinces.filter(top5_provinces[\"Business's use of Generative AI\"] == \"Already using Generative AI\") \\\n",
    "            .limit(5)   \n",
    "\n",
    "top5_provinces.show(truncate=False)\n",
    "\n",
    "\n",
    "# create a bar chart\n",
    "top5_provinces_pd = top5_provinces.toPandas()\n",
    "\n",
    "top5_provinces_pd = top5_provinces_pd.rename(columns={'GEO': 'Province',\n",
    "                                                        'AverageValueOfUsingGenerativeAI(%)': '% Value Of Using Generative AI'})\n",
    "\n",
    "\n",
    "fig = px.bar(top5_provinces_pd,\n",
    "                x='Province',\n",
    "                y='% Value Of Using Generative AI',\n",
    "                title='Top 5 Provinces Already Using Generative AI in Canada',\n",
    "                labels={'% Value Of Using Generative AI':'% Value Of Using Generative AI'},\n",
    "                color='Province')\n",
    "\n",
    "fig.show()\n",
    "\n",
    "fig.write_image(\"../visualization/Top5ProvincesAlreadyUsingGenerativeAI.pdf\")\n",
    "\n",
    "\n",
    "\n",
    "\n",
    "\n"
   ]
  },
  {
   "cell_type": "markdown",
   "metadata": {},
   "source": [
    "2. Use of generative AI or planning to use generative AI has  helped in Accelerate development of creative content or Increase automation in tasks, without reducing employment."
   ]
  },
  {
   "cell_type": "code",
   "execution_count": null,
   "metadata": {},
   "outputs": [
    {
     "name": "stderr",
     "output_type": "stream",
     "text": [
      "/Library/Frameworks/Python.framework/Versions/3.11/lib/python3.11/site-packages/plotly/express/_core.py:2065: FutureWarning:\n",
      "\n",
      "When grouping with a length-1 list-like, you will need to pass a length-1 tuple to get_group in a future version of pandas. Pass `(name,)` instead of `name` to silence this warning.\n",
      "\n"
     ]
    },
    {
     "data": {
      "application/vnd.plotly.v1+json": {
       "config": {
        "plotlyServerURL": "https://plot.ly"
       },
       "data": [
        {
         "alignmentgroup": "True",
         "hovertemplate": "Value Created By Generative AI=Accelerate development of creative content<br>Sectors=%{x}<br>% Value Prdouced By Generative AI=%{y}<extra></extra>",
         "legendgroup": "Accelerate development of creative content",
         "marker": {
          "color": "#636efa",
          "pattern": {
           "shape": ""
          }
         },
         "name": "Accelerate development of creative content",
         "offsetgroup": "Accelerate development of creative content",
         "orientation": "v",
         "showlegend": true,
         "textposition": "auto",
         "type": "bar",
         "x": [
          "Age of business or organization, more than 20 years old",
          "Non-profit organizations",
          "Business or organization activity, none or other",
          "Business or organization activity in the last 12 months, all business or organization activities",
          "Business or organization size of employment, all employment sizes",
          "Age of business or organization, all ages",
          "Geography, all geography",
          "Business or organization type, all businesses or organizations",
          "Private sector businesses",
          "Majority ownership, all ownerships",
          "Age of business or organization, 11 to 20 years old",
          "Arts, entertainment and recreation ",
          "Non-profit organizations serving households or individuals",
          "Other services (except public administration) ",
          "1 to 4 employees",
          "Information and cultural industries ",
          "Majority ownership, First Nations, Métis or Inuit",
          "Real estate and rental and leasing ",
          "Rural",
          "Non-profit organizations serving businesses",
          "Engaged in other international business activities",
          "Wholesale trade ",
          "Professional, scientific and technical services ",
          "Administrative and support, waste management and remediation services ",
          "Retail trade ",
          "Manufacturing ",
          "Majority ownership, LGBTQ2 people",
          "Ownership by visible minority, Chinese",
          "Ownership by visible minority, preferred not to say",
          "Ownership by visible minority, Filipino",
          "Construction ",
          "Ownership by visible minority, Black",
          "Majority ownership, visible minority",
          "Ownership by visible minority, all visible minorities",
          "Agriculture, forestry, fishing and hunting ",
          "Ownership by visible minority, West Asian",
          "Accommodation and food services ",
          "Government agencies",
          "Transportation and warehousing ",
          "Mining, quarrying, and oil and gas extraction ",
          "Ownership by visible minority, other visible minority",
          "Ownership by visible minority, Japanese",
          "Sold goods to businesses in Canada who then resold them outside of Canada",
          "Health care and social assistance ",
          "Ownership by visible minority, Korean",
          "Ownership by visible minority, Arab",
          "Finance and insurance "
         ],
         "xaxis": "x",
         "y": [
          66.5923076923077,
          61.03846153846154,
          60.52307692307693,
          60.48461538461539,
          60.48461538461539,
          60.48461538461539,
          60.48461538461539,
          60.48461538461539,
          59.0923076923077,
          59.0923076923077,
          58.392307692307696,
          58.38461538461537,
          56.8923076923077,
          56.33846153846154,
          53.29230769230769,
          53.107692307692304,
          50.853846153846156,
          50.23846153846154,
          44.34615384615385,
          43.15384615384615,
          42.369230769230775,
          41.184615384615384,
          39.33846153846154,
          37.27692307692307,
          36.38461538461539,
          33.900000000000006,
          32.16923076923077,
          31.153846153846153,
          30.76923076923077,
          30.76923076923077,
          29.084615384615386,
          27.299999999999997,
          25.753846153846155,
          25.753846153846155,
          24.015384615384615,
          23.076923076923077,
          17.623076923076926,
          15.884615384615385,
          15.746153846153845,
          15.738461538461538,
          15.384615384615385,
          15.384615384615385,
          12.346153846153847,
          10.876923076923077,
          7.6923076923076925,
          7.6923076923076925,
          5.423076923076923
         ],
         "yaxis": "y"
        },
        {
         "alignmentgroup": "True",
         "hovertemplate": "Value Created By Generative AI=Increase automation in tasks, without reducing employment<br>Sectors=%{x}<br>% Value Prdouced By Generative AI=%{y}<extra></extra>",
         "legendgroup": "Increase automation in tasks, without reducing employment",
         "marker": {
          "color": "#EF553B",
          "pattern": {
           "shape": ""
          }
         },
         "name": "Increase automation in tasks, without reducing employment",
         "offsetgroup": "Increase automation in tasks, without reducing employment",
         "orientation": "v",
         "showlegend": true,
         "textposition": "auto",
         "type": "bar",
         "x": [
          "Engaged in other international business activities",
          "Age of business or organization, more than 20 years old",
          "1 to 4 employees",
          "Private sector businesses",
          "Majority ownership, all ownerships",
          "Geography, all geography",
          "Business or organization activity in the last 12 months, all business or organization activities",
          "Business or organization size of employment, all employment sizes",
          "Age of business or organization, all ages",
          "Business or organization type, all businesses or organizations",
          "Business or organization activity, none or other",
          "Information and cultural industries ",
          "Administrative and support, waste management and remediation services ",
          "Non-profit organizations serving businesses",
          "Mining, quarrying, and oil and gas extraction ",
          "Majority ownership, First Nations, Métis or Inuit",
          "Sold goods to businesses in Canada who then resold them outside of Canada",
          "Wholesale trade ",
          "Age of business or organization, 11 to 20 years old",
          "Ownership by visible minority, Chinese",
          "Ownership by visible minority, other visible minority",
          "Ownership by visible minority, Filipino",
          "Ownership by visible minority, West Asian",
          "Government agencies",
          "Transportation and warehousing ",
          "Other services (except public administration) ",
          "Construction ",
          "Health care and social assistance ",
          "Accommodation and food services ",
          "Manufacturing ",
          "Rural",
          "Non-profit organizations serving households or individuals",
          "Ownership by visible minority, all visible minorities",
          "Majority ownership, visible minority",
          "Ownership by visible minority, Japanese",
          "Arts, entertainment and recreation ",
          "Non-profit organizations",
          "Professional, scientific and technical services ",
          "Ownership by visible minority, Black",
          "Majority ownership, LGBTQ2 people",
          "Agriculture, forestry, fishing and hunting ",
          "Ownership by visible minority, Arab",
          "Ownership by visible minority, Korean",
          "Finance and insurance ",
          "Real estate and rental and leasing ",
          "Retail trade ",
          "Ownership by visible minority, preferred not to say"
         ],
         "xaxis": "x",
         "y": [
          44.84615384615385,
          39.8,
          37.815384615384616,
          36.04615384615384,
          36.04615384615384,
          33.59230769230769,
          33.59230769230769,
          33.59230769230769,
          33.59230769230769,
          33.59230769230769,
          33.4,
          31.799999999999997,
          31.515384615384615,
          30.807692307692303,
          28.72307692307692,
          27.56923076923077,
          27.307692307692307,
          24.207692307692305,
          23.784615384615385,
          23.515384615384615,
          23.076923076923077,
          23.076923076923077,
          23.076923076923077,
          22.823076923076922,
          22.715384615384615,
          22.53076923076923,
          16.992307692307694,
          16.138461538461538,
          15.900000000000002,
          15.884615384615385,
          15.838461538461537,
          15.661538461538461,
          15.5,
          15.5,
          15.384615384615385,
          15.353846153846153,
          14.876923076923077,
          14.753846153846155,
          14.269230769230772,
          8.853846153846154,
          8.384615384615385,
          7.6923076923076925,
          7.6923076923076925,
          7.546153846153846,
          7.423076923076923,
          4.430769230769231,
          0
         ],
         "yaxis": "y"
        }
       ],
       "layout": {
        "barmode": "relative",
        "legend": {
         "title": {
          "text": "Value Created By Generative AI"
         },
         "tracegroupgap": 0
        },
        "template": {
         "data": {
          "bar": [
           {
            "error_x": {
             "color": "#2a3f5f"
            },
            "error_y": {
             "color": "#2a3f5f"
            },
            "marker": {
             "line": {
              "color": "#E5ECF6",
              "width": 0.5
             },
             "pattern": {
              "fillmode": "overlay",
              "size": 10,
              "solidity": 0.2
             }
            },
            "type": "bar"
           }
          ],
          "barpolar": [
           {
            "marker": {
             "line": {
              "color": "#E5ECF6",
              "width": 0.5
             },
             "pattern": {
              "fillmode": "overlay",
              "size": 10,
              "solidity": 0.2
             }
            },
            "type": "barpolar"
           }
          ],
          "carpet": [
           {
            "aaxis": {
             "endlinecolor": "#2a3f5f",
             "gridcolor": "white",
             "linecolor": "white",
             "minorgridcolor": "white",
             "startlinecolor": "#2a3f5f"
            },
            "baxis": {
             "endlinecolor": "#2a3f5f",
             "gridcolor": "white",
             "linecolor": "white",
             "minorgridcolor": "white",
             "startlinecolor": "#2a3f5f"
            },
            "type": "carpet"
           }
          ],
          "choropleth": [
           {
            "colorbar": {
             "outlinewidth": 0,
             "ticks": ""
            },
            "type": "choropleth"
           }
          ],
          "contour": [
           {
            "colorbar": {
             "outlinewidth": 0,
             "ticks": ""
            },
            "colorscale": [
             [
              0,
              "#0d0887"
             ],
             [
              0.1111111111111111,
              "#46039f"
             ],
             [
              0.2222222222222222,
              "#7201a8"
             ],
             [
              0.3333333333333333,
              "#9c179e"
             ],
             [
              0.4444444444444444,
              "#bd3786"
             ],
             [
              0.5555555555555556,
              "#d8576b"
             ],
             [
              0.6666666666666666,
              "#ed7953"
             ],
             [
              0.7777777777777778,
              "#fb9f3a"
             ],
             [
              0.8888888888888888,
              "#fdca26"
             ],
             [
              1,
              "#f0f921"
             ]
            ],
            "type": "contour"
           }
          ],
          "contourcarpet": [
           {
            "colorbar": {
             "outlinewidth": 0,
             "ticks": ""
            },
            "type": "contourcarpet"
           }
          ],
          "heatmap": [
           {
            "colorbar": {
             "outlinewidth": 0,
             "ticks": ""
            },
            "colorscale": [
             [
              0,
              "#0d0887"
             ],
             [
              0.1111111111111111,
              "#46039f"
             ],
             [
              0.2222222222222222,
              "#7201a8"
             ],
             [
              0.3333333333333333,
              "#9c179e"
             ],
             [
              0.4444444444444444,
              "#bd3786"
             ],
             [
              0.5555555555555556,
              "#d8576b"
             ],
             [
              0.6666666666666666,
              "#ed7953"
             ],
             [
              0.7777777777777778,
              "#fb9f3a"
             ],
             [
              0.8888888888888888,
              "#fdca26"
             ],
             [
              1,
              "#f0f921"
             ]
            ],
            "type": "heatmap"
           }
          ],
          "heatmapgl": [
           {
            "colorbar": {
             "outlinewidth": 0,
             "ticks": ""
            },
            "colorscale": [
             [
              0,
              "#0d0887"
             ],
             [
              0.1111111111111111,
              "#46039f"
             ],
             [
              0.2222222222222222,
              "#7201a8"
             ],
             [
              0.3333333333333333,
              "#9c179e"
             ],
             [
              0.4444444444444444,
              "#bd3786"
             ],
             [
              0.5555555555555556,
              "#d8576b"
             ],
             [
              0.6666666666666666,
              "#ed7953"
             ],
             [
              0.7777777777777778,
              "#fb9f3a"
             ],
             [
              0.8888888888888888,
              "#fdca26"
             ],
             [
              1,
              "#f0f921"
             ]
            ],
            "type": "heatmapgl"
           }
          ],
          "histogram": [
           {
            "marker": {
             "pattern": {
              "fillmode": "overlay",
              "size": 10,
              "solidity": 0.2
             }
            },
            "type": "histogram"
           }
          ],
          "histogram2d": [
           {
            "colorbar": {
             "outlinewidth": 0,
             "ticks": ""
            },
            "colorscale": [
             [
              0,
              "#0d0887"
             ],
             [
              0.1111111111111111,
              "#46039f"
             ],
             [
              0.2222222222222222,
              "#7201a8"
             ],
             [
              0.3333333333333333,
              "#9c179e"
             ],
             [
              0.4444444444444444,
              "#bd3786"
             ],
             [
              0.5555555555555556,
              "#d8576b"
             ],
             [
              0.6666666666666666,
              "#ed7953"
             ],
             [
              0.7777777777777778,
              "#fb9f3a"
             ],
             [
              0.8888888888888888,
              "#fdca26"
             ],
             [
              1,
              "#f0f921"
             ]
            ],
            "type": "histogram2d"
           }
          ],
          "histogram2dcontour": [
           {
            "colorbar": {
             "outlinewidth": 0,
             "ticks": ""
            },
            "colorscale": [
             [
              0,
              "#0d0887"
             ],
             [
              0.1111111111111111,
              "#46039f"
             ],
             [
              0.2222222222222222,
              "#7201a8"
             ],
             [
              0.3333333333333333,
              "#9c179e"
             ],
             [
              0.4444444444444444,
              "#bd3786"
             ],
             [
              0.5555555555555556,
              "#d8576b"
             ],
             [
              0.6666666666666666,
              "#ed7953"
             ],
             [
              0.7777777777777778,
              "#fb9f3a"
             ],
             [
              0.8888888888888888,
              "#fdca26"
             ],
             [
              1,
              "#f0f921"
             ]
            ],
            "type": "histogram2dcontour"
           }
          ],
          "mesh3d": [
           {
            "colorbar": {
             "outlinewidth": 0,
             "ticks": ""
            },
            "type": "mesh3d"
           }
          ],
          "parcoords": [
           {
            "line": {
             "colorbar": {
              "outlinewidth": 0,
              "ticks": ""
             }
            },
            "type": "parcoords"
           }
          ],
          "pie": [
           {
            "automargin": true,
            "type": "pie"
           }
          ],
          "scatter": [
           {
            "fillpattern": {
             "fillmode": "overlay",
             "size": 10,
             "solidity": 0.2
            },
            "type": "scatter"
           }
          ],
          "scatter3d": [
           {
            "line": {
             "colorbar": {
              "outlinewidth": 0,
              "ticks": ""
             }
            },
            "marker": {
             "colorbar": {
              "outlinewidth": 0,
              "ticks": ""
             }
            },
            "type": "scatter3d"
           }
          ],
          "scattercarpet": [
           {
            "marker": {
             "colorbar": {
              "outlinewidth": 0,
              "ticks": ""
             }
            },
            "type": "scattercarpet"
           }
          ],
          "scattergeo": [
           {
            "marker": {
             "colorbar": {
              "outlinewidth": 0,
              "ticks": ""
             }
            },
            "type": "scattergeo"
           }
          ],
          "scattergl": [
           {
            "marker": {
             "colorbar": {
              "outlinewidth": 0,
              "ticks": ""
             }
            },
            "type": "scattergl"
           }
          ],
          "scattermapbox": [
           {
            "marker": {
             "colorbar": {
              "outlinewidth": 0,
              "ticks": ""
             }
            },
            "type": "scattermapbox"
           }
          ],
          "scatterpolar": [
           {
            "marker": {
             "colorbar": {
              "outlinewidth": 0,
              "ticks": ""
             }
            },
            "type": "scatterpolar"
           }
          ],
          "scatterpolargl": [
           {
            "marker": {
             "colorbar": {
              "outlinewidth": 0,
              "ticks": ""
             }
            },
            "type": "scatterpolargl"
           }
          ],
          "scatterternary": [
           {
            "marker": {
             "colorbar": {
              "outlinewidth": 0,
              "ticks": ""
             }
            },
            "type": "scatterternary"
           }
          ],
          "surface": [
           {
            "colorbar": {
             "outlinewidth": 0,
             "ticks": ""
            },
            "colorscale": [
             [
              0,
              "#0d0887"
             ],
             [
              0.1111111111111111,
              "#46039f"
             ],
             [
              0.2222222222222222,
              "#7201a8"
             ],
             [
              0.3333333333333333,
              "#9c179e"
             ],
             [
              0.4444444444444444,
              "#bd3786"
             ],
             [
              0.5555555555555556,
              "#d8576b"
             ],
             [
              0.6666666666666666,
              "#ed7953"
             ],
             [
              0.7777777777777778,
              "#fb9f3a"
             ],
             [
              0.8888888888888888,
              "#fdca26"
             ],
             [
              1,
              "#f0f921"
             ]
            ],
            "type": "surface"
           }
          ],
          "table": [
           {
            "cells": {
             "fill": {
              "color": "#EBF0F8"
             },
             "line": {
              "color": "white"
             }
            },
            "header": {
             "fill": {
              "color": "#C8D4E3"
             },
             "line": {
              "color": "white"
             }
            },
            "type": "table"
           }
          ]
         },
         "layout": {
          "annotationdefaults": {
           "arrowcolor": "#2a3f5f",
           "arrowhead": 0,
           "arrowwidth": 1
          },
          "autotypenumbers": "strict",
          "coloraxis": {
           "colorbar": {
            "outlinewidth": 0,
            "ticks": ""
           }
          },
          "colorscale": {
           "diverging": [
            [
             0,
             "#8e0152"
            ],
            [
             0.1,
             "#c51b7d"
            ],
            [
             0.2,
             "#de77ae"
            ],
            [
             0.3,
             "#f1b6da"
            ],
            [
             0.4,
             "#fde0ef"
            ],
            [
             0.5,
             "#f7f7f7"
            ],
            [
             0.6,
             "#e6f5d0"
            ],
            [
             0.7,
             "#b8e186"
            ],
            [
             0.8,
             "#7fbc41"
            ],
            [
             0.9,
             "#4d9221"
            ],
            [
             1,
             "#276419"
            ]
           ],
           "sequential": [
            [
             0,
             "#0d0887"
            ],
            [
             0.1111111111111111,
             "#46039f"
            ],
            [
             0.2222222222222222,
             "#7201a8"
            ],
            [
             0.3333333333333333,
             "#9c179e"
            ],
            [
             0.4444444444444444,
             "#bd3786"
            ],
            [
             0.5555555555555556,
             "#d8576b"
            ],
            [
             0.6666666666666666,
             "#ed7953"
            ],
            [
             0.7777777777777778,
             "#fb9f3a"
            ],
            [
             0.8888888888888888,
             "#fdca26"
            ],
            [
             1,
             "#f0f921"
            ]
           ],
           "sequentialminus": [
            [
             0,
             "#0d0887"
            ],
            [
             0.1111111111111111,
             "#46039f"
            ],
            [
             0.2222222222222222,
             "#7201a8"
            ],
            [
             0.3333333333333333,
             "#9c179e"
            ],
            [
             0.4444444444444444,
             "#bd3786"
            ],
            [
             0.5555555555555556,
             "#d8576b"
            ],
            [
             0.6666666666666666,
             "#ed7953"
            ],
            [
             0.7777777777777778,
             "#fb9f3a"
            ],
            [
             0.8888888888888888,
             "#fdca26"
            ],
            [
             1,
             "#f0f921"
            ]
           ]
          },
          "colorway": [
           "#636efa",
           "#EF553B",
           "#00cc96",
           "#ab63fa",
           "#FFA15A",
           "#19d3f3",
           "#FF6692",
           "#B6E880",
           "#FF97FF",
           "#FECB52"
          ],
          "font": {
           "color": "#2a3f5f"
          },
          "geo": {
           "bgcolor": "white",
           "lakecolor": "white",
           "landcolor": "#E5ECF6",
           "showlakes": true,
           "showland": true,
           "subunitcolor": "white"
          },
          "hoverlabel": {
           "align": "left"
          },
          "hovermode": "closest",
          "mapbox": {
           "style": "light"
          },
          "paper_bgcolor": "white",
          "plot_bgcolor": "#E5ECF6",
          "polar": {
           "angularaxis": {
            "gridcolor": "white",
            "linecolor": "white",
            "ticks": ""
           },
           "bgcolor": "#E5ECF6",
           "radialaxis": {
            "gridcolor": "white",
            "linecolor": "white",
            "ticks": ""
           }
          },
          "scene": {
           "xaxis": {
            "backgroundcolor": "#E5ECF6",
            "gridcolor": "white",
            "gridwidth": 2,
            "linecolor": "white",
            "showbackground": true,
            "ticks": "",
            "zerolinecolor": "white"
           },
           "yaxis": {
            "backgroundcolor": "#E5ECF6",
            "gridcolor": "white",
            "gridwidth": 2,
            "linecolor": "white",
            "showbackground": true,
            "ticks": "",
            "zerolinecolor": "white"
           },
           "zaxis": {
            "backgroundcolor": "#E5ECF6",
            "gridcolor": "white",
            "gridwidth": 2,
            "linecolor": "white",
            "showbackground": true,
            "ticks": "",
            "zerolinecolor": "white"
           }
          },
          "shapedefaults": {
           "line": {
            "color": "#2a3f5f"
           }
          },
          "ternary": {
           "aaxis": {
            "gridcolor": "white",
            "linecolor": "white",
            "ticks": ""
           },
           "baxis": {
            "gridcolor": "white",
            "linecolor": "white",
            "ticks": ""
           },
           "bgcolor": "#E5ECF6",
           "caxis": {
            "gridcolor": "white",
            "linecolor": "white",
            "ticks": ""
           }
          },
          "title": {
           "x": 0.05
          },
          "xaxis": {
           "automargin": true,
           "gridcolor": "white",
           "linecolor": "white",
           "ticks": "",
           "title": {
            "standoff": 15
           },
           "zerolinecolor": "white",
           "zerolinewidth": 2
          },
          "yaxis": {
           "automargin": true,
           "gridcolor": "white",
           "linecolor": "white",
           "ticks": "",
           "title": {
            "standoff": 15
           },
           "zerolinecolor": "white",
           "zerolinewidth": 2
          }
         }
        },
        "title": {
         "text": "Business Characteristics that Accelerate Development of Creative Content and Increase Automation in Tasks"
        },
        "xaxis": {
         "anchor": "y",
         "domain": [
          0,
          1
         ],
         "title": {
          "text": "Sectors"
         }
        },
        "yaxis": {
         "anchor": "x",
         "domain": [
          0,
          1
         ],
         "title": {
          "text": "% Value Prdouced By Generative AI"
         }
        }
       }
      }
     },
     "metadata": {},
     "output_type": "display_data"
    }
   ],
   "source": [
    "import plotly.express as px\n",
    "\n",
    "from pyspark.sql.functions import col\n",
    "\n",
    "# Define the values to include\n",
    "values_to_include = [\"Accelerate development of creative content\", \"Increase automation in tasks, without reducing employment\"]\n",
    "\n",
    "# Filter the data\n",
    "filtered_df = cleaned_df.filter(col(\"Value or potential value created by Generative AI\").isin(values_to_include))\n",
    "\n",
    "#Caluculate the average value of using generative AI\n",
    "filtered_df = filtered_df.groupBy(\"Business characteristics\", \"Value or potential value created by Generative AI\") \\\n",
    "                .agg(F.avg(\"ValuePrdoucedByGenerativeAI(%)\") \\\n",
    "                .alias(\"AverageValuePrdoucedByGenerativeAI(%)\")) \\\n",
    "                .sort(\"AverageValuePrdoucedByGenerativeAI(%)\", ascending=False) \n",
    "\n",
    "# Create a bar chart\n",
    "filtered_df_pd = filtered_df.toPandas()\n",
    "\n",
    "filtered_df_pd = filtered_df_pd.rename(columns={'Business characteristics': 'Sectors',\n",
    "                                                'Value or potential value created by Generative AI': 'Value Created By Generative AI',\n",
    "                                                'AverageValuePrdoucedByGenerativeAI(%)': 'Average Value Prdouced By Generative AI (%)'})\n",
    "\n",
    "fig = px.bar(filtered_df_pd,\n",
    "                x='Sectors',\n",
    "                y='Average Value Prdouced By Generative AI (%)',\n",
    "                title='Business Characteristics that Accelerate Development of Creative Content and Increase Automation in Tasks',\n",
    "                labels={'Average Value Prdouced By Generative AI (%)':'% Value Prdouced By Generative AI'},\n",
    "                color='Value Created By Generative AI')\n",
    "\n",
    "fig.show()\n",
    "fig.write_image(\"../visualization/BusinessCharacteristicsAccelerateDevelopmentOfCreativeContentAndIncreaseAutomationInTasks.pdf\")\n"
   ]
  },
  {
   "cell_type": "code",
   "execution_count": null,
   "metadata": {},
   "outputs": [
    {
     "ename": "NameError",
     "evalue": "name 'cleaned_df' is not defined",
     "output_type": "error",
     "traceback": [
      "\u001b[0;31m---------------------------------------------------------------------------\u001b[0m",
      "\u001b[0;31mNameError\u001b[0m                                 Traceback (most recent call last)",
      "Cell \u001b[0;32mIn[12], line 15\u001b[0m\n\u001b[1;32m     12\u001b[0m values_to_include \u001b[38;5;241m=\u001b[39m [\u001b[38;5;124m\"\u001b[39m\u001b[38;5;124mAccelerate development of creative content\u001b[39m\u001b[38;5;124m\"\u001b[39m, \u001b[38;5;124m\"\u001b[39m\u001b[38;5;124mIncrease automation in tasks, without reducing employment\u001b[39m\u001b[38;5;124m\"\u001b[39m]\n\u001b[1;32m     14\u001b[0m \u001b[38;5;66;03m# Filter the data\u001b[39;00m\n\u001b[0;32m---> 15\u001b[0m filtered_df \u001b[38;5;241m=\u001b[39m \u001b[43mcleaned_df\u001b[49m\u001b[38;5;241m.\u001b[39mfilter(col(\u001b[38;5;124m\"\u001b[39m\u001b[38;5;124mValue or potential value created by Generative AI\u001b[39m\u001b[38;5;124m\"\u001b[39m)\u001b[38;5;241m.\u001b[39misin(values_to_include))\n\u001b[1;32m     19\u001b[0m values_to_include \u001b[38;5;241m=\u001b[39m [\u001b[38;5;124m\"\u001b[39m\u001b[38;5;124mInformation and cultural industries \u001b[39m\u001b[38;5;124m\"\u001b[39m, \u001b[38;5;124m\"\u001b[39m\u001b[38;5;124mProfessional, scientific and technical services \u001b[39m\u001b[38;5;124m\"\u001b[39m, \u001b[38;5;124m\"\u001b[39m\u001b[38;5;124mFinance and insurance \u001b[39m\u001b[38;5;124m\"\u001b[39m, \u001b[38;5;124m\"\u001b[39m\u001b[38;5;124mArts, entertainment and recreation \u001b[39m\u001b[38;5;124m\"\u001b[39m, \u001b[38;5;124m\"\u001b[39m\u001b[38;5;124mManufacturing \u001b[39m\u001b[38;5;124m\"\u001b[39m]\n\u001b[1;32m     21\u001b[0m \u001b[38;5;28mprint\u001b[39m(values_to_include)\n",
      "\u001b[0;31mNameError\u001b[0m: name 'cleaned_df' is not defined"
     ]
    }
   ],
   "source": [
    "# Information and cultural industries \n",
    "# Professional, scientific and technical services\n",
    "# Finance and insurance\n",
    "# Arts, entertainment and recreation\n",
    "# Manufacturing \n",
    "\n",
    "import plotly.express as px\n",
    "\n",
    "from pyspark.sql.functions import col\n",
    "\n",
    "# Define the values to include\n",
    "values_to_include = [\"Accelerate development of creative content\", \"Increase automation in tasks, without reducing employment\"]\n",
    "\n",
    "# Filter the data\n",
    "filtered_df = cleaned_df.filter(col(\"Value or potential value created by Generative AI\").isin(values_to_include))\n",
    "\n",
    "\n",
    "\n",
    "values_to_include = [\"Information and cultural industries \", \"Professional, scientific and technical services \", \"Finance and insurance \", \"Arts, entertainment and recreation \", \"Manufacturing \"]\n",
    "\n",
    "print(values_to_include)\n",
    "\n",
    "filtered_df = filtered_df.filter(col(\"Business characteristics\").isin(values_to_include))\n",
    "\n",
    "filtered_df.show(truncate=False)\n",
    "\n",
    "# #Calculate the average value of using generative AI\n",
    "filtered_df = filtered_df.groupBy(\"Business characteristics\", \"Value or potential value created by Generative AI\") \\\n",
    "                .agg(F.avg(\"ValuePrdoucedByGenerativeAI(%)\") \\\n",
    "                .alias(\"AverageValuePrdoucedByGenerativeAI(%)\")) \\\n",
    "                .sort(\"AverageValuePrdoucedByGenerativeAI(%)\", ascending=False) \n",
    "\n",
    "\n",
    "# filtered_df.show(truncate=False)\n",
    "\n",
    "# Create a bar chart\n",
    "filtered_df_pd = filtered_df.toPandas()\n",
    "\n",
    "filtered_df_pd = filtered_df_pd.rename(columns={'Business characteristics': 'Sectors',\n",
    "                                                'Value or potential value created by Generative AI': 'Value Created By Generative AI',\n",
    "                                                'AverageValuePrdoucedByGenerativeAI(%)': 'Average Value Prdouced By Generative AI (%)'})\n",
    "\n",
    "fig = px.bar(filtered_df_pd,\n",
    "                x='Sectors',\n",
    "                y='Average Value Prdouced By Generative AI (%)',\n",
    "                title='Business Characteristics that Accelerate Development of Creative Content and Increase Automation in Tasks',\n",
    "                labels={'Average Value Prdouced By Generative AI (%)':'% Value Prdouced By Generative AI'},\n",
    "                color='Value Created By Generative AI')\n",
    "\n",
    "fig.show()\n",
    "\n",
    "fig.write_image(\"../visualization/Top5BusinessCharacteristicsAccelerateDevelopmentOfCreativeContentAndIncreaseAutomationInTasks.pdf\")\n"
   ]
  },
  {
   "cell_type": "code",
   "execution_count": null,
   "metadata": {},
   "outputs": [
    {
     "ename": "NameError",
     "evalue": "name 'cleaned_df' is not defined",
     "output_type": "error",
     "traceback": [
      "\u001b[0;31m---------------------------------------------------------------------------\u001b[0m",
      "\u001b[0;31mNameError\u001b[0m                                 Traceback (most recent call last)",
      "Cell \u001b[0;32mIn[11], line 28\u001b[0m\n\u001b[1;32m     24\u001b[0m values_to_include \u001b[38;5;241m=\u001b[39m [\u001b[38;5;124m\"\u001b[39m\u001b[38;5;124mTransportation and warehousing \u001b[39m\u001b[38;5;124m\"\u001b[39m, \u001b[38;5;124m\"\u001b[39m\u001b[38;5;124mConstruction \u001b[39m\u001b[38;5;124m\"\u001b[39m, \u001b[38;5;124m\"\u001b[39m\u001b[38;5;124mAgriculture, forestry, fishing and hunting \u001b[39m\u001b[38;5;124m\"\u001b[39m, \u001b[38;5;124m\"\u001b[39m\u001b[38;5;124mMining, quarrying, and oil and gas extraction \u001b[39m\u001b[38;5;124m\"\u001b[39m, \u001b[38;5;124m\"\u001b[39m\u001b[38;5;124mWholesale trade \u001b[39m\u001b[38;5;124m\"\u001b[39m]\n\u001b[1;32m     26\u001b[0m \u001b[38;5;66;03m# Filter the data\u001b[39;00m\n\u001b[0;32m---> 28\u001b[0m filtered_df \u001b[38;5;241m=\u001b[39m \u001b[43mcleaned_df\u001b[49m\u001b[38;5;241m.\u001b[39mfilter(col(\u001b[38;5;124m\"\u001b[39m\u001b[38;5;124mBusiness characteristics\u001b[39m\u001b[38;5;124m\"\u001b[39m)\u001b[38;5;241m.\u001b[39misin(values_to_include))\n\u001b[1;32m     30\u001b[0m filtered_df \u001b[38;5;241m=\u001b[39m filtered_df\u001b[38;5;241m.\u001b[39mfilter((col(\u001b[38;5;124m\"\u001b[39m\u001b[38;5;124mBusiness\u001b[39m\u001b[38;5;124m'\u001b[39m\u001b[38;5;124ms use of Generative AI\u001b[39m\u001b[38;5;124m\"\u001b[39m) \u001b[38;5;241m==\u001b[39m \u001b[38;5;124m\"\u001b[39m\u001b[38;5;124mHave not considered using Generative AI\u001b[39m\u001b[38;5;124m\"\u001b[39m) \u001b[38;5;241m&\u001b[39m (col(\u001b[38;5;124m\"\u001b[39m\u001b[38;5;124mValuePrdoucedByGenerativeAI(\u001b[39m\u001b[38;5;124m%\u001b[39m\u001b[38;5;124m)\u001b[39m\u001b[38;5;124m\"\u001b[39m) \u001b[38;5;241m==\u001b[39m \u001b[38;5;241m0\u001b[39m))\n\u001b[1;32m     32\u001b[0m \u001b[38;5;66;03m#consider average value of ValueOfUsingGenerativeAI(%) for the above sectors and show the comparision chart for the above sectors\u001b[39;00m\n",
      "\u001b[0;31mNameError\u001b[0m: name 'cleaned_df' is not defined"
     ]
    }
   ],
   "source": [
    "# Fitler by Business's use of Generative AI Have not considered using Generative AI and ValuePrdoucedByGenerativeAI(%) is 0 \n",
    "# \n",
    "\n",
    "# transportation and warehousing\n",
    "# construction\n",
    "# agriculture, forestry, fishing and hunting \n",
    "# Mining, quarrying, and oil and gas extraction\n",
    "# Wholesale trade\n",
    "\n",
    "# filter only these values transportation and warehousing\n",
    "# construction\n",
    "# agriculture, forestry, fishing and hunting \n",
    "# Mining, quarrying, and oil and gas extraction\n",
    "# Wholesale trade\n",
    "\n",
    "#draw the comparision chart ValueOfUsingGenerativeAI and ValuePrdoucedByGenerativeAI for the above sectors\n",
    "\n",
    "import plotly.express as px\n",
    "\n",
    "from pyspark.sql.functions import col\n",
    "\n",
    "# Define the values to include\n",
    "\n",
    "values_to_include = [\"Transportation and warehousing \", \"Construction \", \"Agriculture, forestry, fishing and hunting \", \"Mining, quarrying, and oil and gas extraction \", \"Wholesale trade \"]\n",
    "\n",
    "# Filter the data\n",
    "\n",
    "filtered_df = cleaned_df.filter(col(\"Business characteristics\").isin(values_to_include))\n",
    "\n",
    "filtered_df = filtered_df.filter((col(\"Business's use of Generative AI\") == \"Have not considered using Generative AI\") & (col(\"ValuePrdoucedByGenerativeAI(%)\") == 0))\n",
    "\n",
    "#consider average value of ValueOfUsingGenerativeAI(%) for the above sectors and show the comparision chart for the above sectors\n",
    "filtered_df = filtered_df.groupBy(\"Business characteristics\", \"Business's use of Generative AI\") \\\n",
    "                .agg(F.avg(\"ValueOfUsingGenerativeAI(%)\") \\\n",
    "                .alias(\"AverageValueOfUsingGenerativeAI(%)\")) \\\n",
    "                .sort(\"AverageValueOfUsingGenerativeAI(%)\", ascending=False)\n",
    "\n",
    "filtered_df.toPandas().to_csv(\"demo.csv\")\n",
    "\n",
    "\n",
    "# create a table using px  top 5 to show the average value of ValuePrdoucedByGenerativeAI(%) == 0 for the above sectors\n",
    "\n",
    "filtered_df.show(truncate=False)\n",
    "\n",
    "\n",
    "\n",
    "# Create a bar chart\n",
    "filtered_df_pd = filtered_df.toPandas()\n",
    "\n",
    "filtered_df_pd = filtered_df_pd.rename(columns={'Business characteristics': 'Sectors',\n",
    "                                                \n",
    "                                                'AverageValueOfUsingGenerativeAI(%)': 'Average Value Of Using Generative AI (%)'})\n",
    "\n",
    "fig = px.bar(filtered_df_pd,\n",
    "                x='Sectors',\n",
    "                y='Average Value Of Using Generative AI (%)',\n",
    "                title='Business Characteristics that Have not considered using Generative AI',\n",
    "                labels={'Average Value Of Using Generative AI (%)':'% Potential Value Of Using Generative AI'},\n",
    "                color='Sectors')\n",
    "\n",
    "fig.show()\n",
    "fig.write_image(\"../visualization/Top5BusinessCharacteristicsHaveNotConsideredUsingGenerativeAI.pdf\")\n"
   ]
  }
 ],
 "metadata": {
  "kernelspec": {
   "display_name": "Python 3",
   "language": "python",
   "name": "python3"
  },
  "language_info": {
   "codemirror_mode": {
    "name": "ipython",
    "version": 3
   },
   "file_extension": ".py",
   "mimetype": "text/x-python",
   "name": "python",
   "nbconvert_exporter": "python",
   "pygments_lexer": "ipython3",
   "version": "3.11.4"
  }
 },
 "nbformat": 4,
 "nbformat_minor": 2
}

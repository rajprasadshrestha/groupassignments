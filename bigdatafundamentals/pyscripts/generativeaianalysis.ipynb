{
 "cells": [
  {
   "cell_type": "markdown",
   "metadata": {},
   "source": [
    "Task Divison:\n",
    "\n",
    "1. Data cleaning by Purnima:  \n",
    "    - Drop the following columns from both  csv files  using Apache Spark DataFrame API\n",
    "        - REF_DATE,\"UOM\",\"UOM_ID\",\"SCALAR_FACTOR\",\"SCALAR_ID\",\"VECTOR\",\"STATUS\",\"SYMBOL\",\"TERMINATED\",\"DECIMALS\" (EXCEPT **VALUE** and **COORDINATE** note that)\n",
    "    - Remove the records containing the \"GEO\" column value as \"Canada\" using Apache Spark DataFrame API\n",
    "    -  Rename the column name \"Business Characteristics\" to \"Business Types\" using Apache Spark DataFrame API\n",
    "    \n",
    "\n",
    "    - Create a presenatation slides .... \n",
    "\n",
    "2. Data visulization by Purninma(Use Plotly (https://plotly.com/python/) it's really simple (Apache Spark Dataframe can be used):\n",
    "    -   Already using generative AI by various business types in across canada \n",
    "        - Create a pie chart (use value (%) column value)\n",
    "        - Create a spatial chart showing the use of generative AI across Canada\n",
    "        - Create a line plot\n",
    "    - Plans to use generative AI by various business types in each province of canada (use lineplot, heat map , spatial pie chart and Value(%) column)\n",
    "    - Have not considered using Generative AI(use pie chart and Value(%) column)\n",
    "\n",
    "1. Data cleaning by Raj \n",
    "    - Add a new column \"Business classification code\" extract the classification code from the Business Characteristics column values for example \"Other services (except public administration) [81]\" 81 is the business classification code. \n",
    "    - \n",
    "\n",
    "2. Data visulization by Raj \n",
    "\n",
    "\n",
    "\n",
    "Automate tasks to replace employees\n",
    "Increase automation in tasks, without reducing employment\n",
    "IT fields (our course)\n",
    "\n",
    "\n",
    "\n",
    "    \n"
   ]
  },
  {
   "cell_type": "code",
   "execution_count": 1,
   "metadata": {},
   "outputs": [
    {
     "name": "stderr",
     "output_type": "stream",
     "text": [
      "24/04/10 12:57:10 WARN Utils: Your hostname, Rajs-MacBook-Pro.local resolves to a loopback address: 127.0.0.1; using 10.0.0.27 instead (on interface en0)\n",
      "24/04/10 12:57:10 WARN Utils: Set SPARK_LOCAL_IP if you need to bind to another address\n",
      "Setting default log level to \"WARN\".\n",
      "To adjust logging level use sc.setLogLevel(newLevel). For SparkR, use setLogLevel(newLevel).\n",
      "24/04/10 12:57:10 WARN NativeCodeLoader: Unable to load native-hadoop library for your platform... using builtin-java classes where applicable\n",
      "24/04/10 12:57:11 WARN Utils: Service 'SparkUI' could not bind on port 4040. Attempting port 4041.\n"
     ]
    },
    {
     "name": "stdout",
     "output_type": "stream",
     "text": [
      "+--------+------+--------------+---------------------------------------------------------------------+---------------------------------------------------------------------+-------+------+-------------+---------+-----------+----------+-----+------+------+----------+--------+\n",
      "|REF_DATE|GEO   |DGUID         |Business characteristics                                             |Business's use of Generative AI                                      |UOM    |UOM_ID|SCALAR_FACTOR|SCALAR_ID|VECTOR     |COORDINATE|VALUE|STATUS|SYMBOL|TERMINATED|DECIMALS|\n",
      "+--------+------+--------------+---------------------------------------------------------------------+---------------------------------------------------------------------+-------+------+-------------+---------+-----------+----------+-----+------+------+----------+--------+\n",
      "|2023    |Canada|2021A000011124|North American Industry Classification System (NAICS), all industries|Already using Generative AI                                          |Percent|239   |units        |0        |v1579745395|1.1.1     |9.3  |A     |NULL  |NULL      |1       |\n",
      "|2023    |Canada|2021A000011124|North American Industry Classification System (NAICS), all industries|Have plans to use Generative AI                                      |Percent|239   |units        |0        |v1579745396|1.1.2     |4.6  |A     |NULL  |NULL      |1       |\n",
      "|2023    |Canada|2021A000011124|North American Industry Classification System (NAICS), all industries|Considered using but have no current plans to implement Generative AI|Percent|239   |units        |0        |v1579745397|1.1.3     |13.4 |A     |NULL  |NULL      |1       |\n",
      "|2023    |Canada|2021A000011124|North American Industry Classification System (NAICS), all industries|Have not considered using Generative AI                              |Percent|239   |units        |0        |v1579745398|1.1.4     |72.7 |A     |NULL  |NULL      |1       |\n",
      "|2023    |Canada|2021A000011124|Agriculture, forestry, fishing and hunting [11]                      |Already using Generative AI                                          |Percent|239   |units        |0        |v1579745439|1.2.1     |5.5  |A     |NULL  |NULL      |1       |\n",
      "|2023    |Canada|2021A000011124|Agriculture, forestry, fishing and hunting [11]                      |Have plans to use Generative AI                                      |Percent|239   |units        |0        |v1579745440|1.2.2     |2.8  |A     |NULL  |NULL      |1       |\n",
      "|2023    |Canada|2021A000011124|Agriculture, forestry, fishing and hunting [11]                      |Considered using but have no current plans to implement Generative AI|Percent|239   |units        |0        |v1579745441|1.2.3     |6.6  |A     |NULL  |NULL      |1       |\n",
      "|2023    |Canada|2021A000011124|Agriculture, forestry, fishing and hunting [11]                      |Have not considered using Generative AI                              |Percent|239   |units        |0        |v1579745442|1.2.4     |85.1 |A     |NULL  |NULL      |1       |\n",
      "|2023    |Canada|2021A000011124|Mining, quarrying, and oil and gas extraction [21]                   |Already using Generative AI                                          |Percent|239   |units        |0        |v1579745483|1.3.1     |7.3  |A     |NULL  |NULL      |1       |\n",
      "|2023    |Canada|2021A000011124|Mining, quarrying, and oil and gas extraction [21]                   |Have plans to use Generative AI                                      |Percent|239   |units        |0        |v1579745484|1.3.2     |1.4  |A     |NULL  |NULL      |1       |\n",
      "|2023    |Canada|2021A000011124|Mining, quarrying, and oil and gas extraction [21]                   |Considered using but have no current plans to implement Generative AI|Percent|239   |units        |0        |v1579745485|1.3.3     |15.1 |B     |NULL  |NULL      |1       |\n",
      "|2023    |Canada|2021A000011124|Mining, quarrying, and oil and gas extraction [21]                   |Have not considered using Generative AI                              |Percent|239   |units        |0        |v1579745486|1.3.4     |76.2 |B     |NULL  |NULL      |1       |\n",
      "|2023    |Canada|2021A000011124|Construction [23]                                                    |Already using Generative AI                                          |Percent|239   |units        |0        |v1579745527|1.4.1     |5.5  |A     |NULL  |NULL      |1       |\n",
      "|2023    |Canada|2021A000011124|Construction [23]                                                    |Have plans to use Generative AI                                      |Percent|239   |units        |0        |v1579745528|1.4.2     |1.0  |A     |NULL  |NULL      |1       |\n",
      "|2023    |Canada|2021A000011124|Construction [23]                                                    |Considered using but have no current plans to implement Generative AI|Percent|239   |units        |0        |v1579745529|1.4.3     |7.9  |A     |NULL  |NULL      |1       |\n",
      "|2023    |Canada|2021A000011124|Construction [23]                                                    |Have not considered using Generative AI                              |Percent|239   |units        |0        |v1579745530|1.4.4     |85.6 |B     |NULL  |NULL      |1       |\n",
      "|2023    |Canada|2021A000011124|Manufacturing [31-33]                                                |Already using Generative AI                                          |Percent|239   |units        |0        |v1579745571|1.5.1     |10.6 |B     |NULL  |NULL      |1       |\n",
      "|2023    |Canada|2021A000011124|Manufacturing [31-33]                                                |Have plans to use Generative AI                                      |Percent|239   |units        |0        |v1579745572|1.5.2     |4.8  |A     |NULL  |NULL      |1       |\n",
      "|2023    |Canada|2021A000011124|Manufacturing [31-33]                                                |Considered using but have no current plans to implement Generative AI|Percent|239   |units        |0        |v1579745573|1.5.3     |16.2 |B     |NULL  |NULL      |1       |\n",
      "|2023    |Canada|2021A000011124|Manufacturing [31-33]                                                |Have not considered using Generative AI                              |Percent|239   |units        |0        |v1579745574|1.5.4     |68.4 |B     |NULL  |NULL      |1       |\n",
      "+--------+------+--------------+---------------------------------------------------------------------+---------------------------------------------------------------------+-------+------+-------------+---------+-----------+----------+-----+------+------+----------+--------+\n",
      "only showing top 20 rows\n",
      "\n"
     ]
    }
   ],
   "source": [
    "#Data cleaning \n",
    "\n",
    "from pyspark.sql import SparkSession\n",
    "\n",
    "spark = SparkSession.builder.appName(\"AnalaysisOfGenerativeAIInCanada\").getOrCreate()\n",
    "\n",
    "# Load the data\n",
    "spark.read.csv(\"../dataset/33100784-eng/33100784.csv\", header=True,inferSchema=True) \\\n",
    ".show(truncate=False)\n",
    "\n",
    "# Reference https://dash.gallery/dash-clinical-analytics/\n",
    "# https://www.statcan.gc.ca/o1/en/plus/5847-which-canadian-businesses-are-using-generative-artificial-intelligence-and-why"
   ]
  }
 ],
 "metadata": {
  "kernelspec": {
   "display_name": "Python 3",
   "language": "python",
   "name": "python3"
  },
  "language_info": {
   "codemirror_mode": {
    "name": "ipython",
    "version": 3
   },
   "file_extension": ".py",
   "mimetype": "text/x-python",
   "name": "python",
   "nbconvert_exporter": "python",
   "pygments_lexer": "ipython3",
   "version": "3.11.4"
  }
 },
 "nbformat": 4,
 "nbformat_minor": 2
}

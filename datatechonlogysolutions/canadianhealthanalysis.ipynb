{
 "cells": [
  {
   "cell_type": "markdown",
   "metadata": {},
   "source": [
    "1. Dataset downloaded from https://www150.statcan.gc.ca/n1/tbl/csv/13100096-eng.zip"
   ]
  },
  {
   "cell_type": "markdown",
   "metadata": {},
   "source": [
    "- Uploading the downloaded dataset into HDFS\n"
   ]
  },
  {
   "cell_type": "code",
   "execution_count": 2,
   "metadata": {},
   "outputs": [
    {
     "name": "stdout",
     "output_type": "stream",
     "text": [
      "2024-04-06 04:25:52,242 WARN util.NativeCodeLoader: Unable to load native-hadoop library for your platform... using builtin-java classes where applicable\n",
      "Found 1 items\n",
      "drwxr-xr-x   - rajprasadshrestha supergroup          0 2024-03-27 21:53 /user\n"
     ]
    }
   ],
   "source": [
    "!hdfs dfs -ls /"
   ]
  },
  {
   "cell_type": "code",
   "execution_count": null,
   "metadata": {},
   "outputs": [],
   "source": [
    "from pyspark.sql import SparkSession\n",
    "\n",
    "\n",
    "\n",
    "# Initialize Spark session\n",
    "spark = SparkSession.builder.appName(\"HiveAnalysis\").enableHiveSupport().getOrCreate()\n",
    "\n",
    "# Use the Hive database\n",
    "spark.sql(\"USE log_db\")\n",
    "\n",
    "\n",
    "\n",
    "# Perform basic analysis on the Hive table \n",
    "hive_table = 'log_table'\n",
    "\n",
    "# Show a few records the Hive table\n",
    "result = spark.sql(\"SELECT * FROM {} LIMIT 5\".format(hive_table))\n",
    "result.show(truncate=False)\n",
    "\n",
    "output_path = 'user/maria_dev/spark/job_output/file.csv'\n",
    "result.write.csv(output_path, header=True, mode='overwrite')\n",
    "\n",
    "#Stop the Spark session\n",
    "spark.stop()\n"
   ]
  }
 ],
 "metadata": {
  "kernelspec": {
   "display_name": "Python 3",
   "language": "python",
   "name": "python3"
  },
  "language_info": {
   "codemirror_mode": {
    "name": "ipython",
    "version": 3
   },
   "file_extension": ".py",
   "mimetype": "text/x-python",
   "name": "python",
   "nbconvert_exporter": "python",
   "pygments_lexer": "ipython3",
   "version": "3.11.4"
  }
 },
 "nbformat": 4,
 "nbformat_minor": 2
}
